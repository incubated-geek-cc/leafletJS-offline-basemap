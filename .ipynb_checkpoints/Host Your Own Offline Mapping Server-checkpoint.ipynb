{
 "cells": [
  {
   "cell_type": "markdown",
   "metadata": {},
   "source": [
    "# Host Your Own Offline Mapping Server\n",
    "## Step-by-Step Guide with instructions embedded below\n",
    "## Overview\n",
    "<a href=\"https://leafletjs.com/\" target=\"blank\">LeafletJS</a>, <a href=\"https://www.mapbox.com/\" target=\"blank\">MapBox</a>, <a href=\"https://www.esri.com/\" target=\"blank\">Esri</a> etc. These are just a few of the map plugins which analysts, developers etc. who require various Geospatial visualisations tend to use. Needless to say, all these plugins have something in common - they require a basemap service for meaningful interactivity. Thanks to many open-sourced map services such as <a href=\"https://www.openstreetmap.org/\" target=\"blank\">OpenStreetMap(OSM)</a>, it is almost effortless to parse in its map service url for rendering:<br><br>\n",
    "<u>Simple example of initialising a basemap using LeafletJS</u>\n",
    "```javascript\n",
    "    L.tileLayer(\"https://tile.openstreetmap.org/{z}/{x}/{y}.png\", {\n",
    "        attribution: \"Map data &copy; <a href='https://www.openstreetmap.org/'>OpenStreetMap</a> contributors, <a href='https://creativecommons.org/licenses/by-sa/2.0/'>CC-BY-SA</a>, Imagery © <a href='https://www.mapbox.com/'>Mapbox</a>\"\n",
    "    }).addTo(map);\n",
    "```\n",
    "## Rationale of hosting an offline basemap\n",
    "However, this easy accessibility can backfire when an application fails to connect to the map service due to unforeseen circumstances such as - Absence of WiFi, Faulty Internet Connection, the Basemap service is no longer available etc. As a precaution, it is always wiser to consider hosting your own basemap locally on your local server especially on days when you are required to demonstrate or use your application at work.<br><br>\n",
    "<u>Example of locally hosted basemap</u>\n",
    "<img src=\"img/localhost_basemap_preview.png\" height=\"150px\" /><br>\n",
    "Although there are several ways of doing it, my preferred choice is the make use of leaflet's mbtiles plugin known as <a href=\"https://gitlab.com/IvanSanchez/Leaflet.TileLayer.MBTiles\" target=\"blank\">Leaflet.TileLayer.MBTiles</a>, which requires some preparation steps I will be going through below. This includes a little bit of calculation, a local web server, the utility python package <a href=\"https://github.com/mapbox/mbutil \" target=\"blank\">mbutil</a> and the base leafletJS library(since the choice of mbtiles plugin is meant to be integrated with leafletJS)."
   ]
  },
  {
   "cell_type": "markdown",
   "metadata": {},
   "source": [
    "## Step 1: Search for pre-existing basemap services online and pick your choice\n",
    "First and foremost, decide on a specific basemap to host offline. A good place to start will be http://maps.stamen.com/ with a great variety of basemaps available for public use. In addition, deciding on which basemap to host enables a clear understanding of each map tile's url format <b>(KIV: This is extremely important as we will see later.)</b>. For demonstration, I shall select MapStamen's Toner basemap. After settling on the type of basemap you wish to host, proceed to:\n",
    "* Zoom to desired minimum zoom level e.g. `11` and ensure that the current browser viewport is currently capturing **ALL** the map tile images which are rendering the <b>Region/Province/Country/Continent</b>. For example, assuming my objective is to host the basemap of the country, Singapore, my browser shall look like this:<br>\n",
    "<br><u>Zoom Level 11 View</u><br>\n",
    "<img src=\"img/sg_map_toner_hybrid_stamen.png\" height=\"150px\" />\n",
    "* Right click and select \"Inspect\" or Ctrl+Shift+i (on Windows)\n",
    "<br><u>Screenshot of Developer Tools</u><br>\n",
    "<img src=\"img/browser_console_stamen_basemap.png\" height=\"150px\" /><br><br>\n",
    "While different browsers have different configurations, the 2 essential components are:\n",
    "1. The browser <b>console</b>\n",
    "2. The <b>Elements</b> to view the html markup. \n",
    "As seen from the format of the `src` attribute of each map tile image rendered,, it follows the conventional <a href=\"https://wiki.openstreetmap.org/wiki/Slippy_map_tilenames\" target=\"blank\">Slippy map</a> format where the URL contains `{s}-{z}/{x}/{y}`:<br>\n",
    "    - `z`: Zoom Level\n",
    "    - `x`: X-Coordinate of Tile Image in pixels\n",
    "    - `y`: Y-Coordinate of Tile Image in pixels\n",
    "    - `s`: Refers to subdomain. Due to heavy usage of map services, subdomains `a`,`b`,`c` are configured in place.<br>\n",
    "    \n",
    "Copy and paste the following JavaScript code snippet into the console:\n",
    "```javascript\n",
    "    var imgs = document.getElementsByTagName(\"img\");\n",
    "    var coordinates = [];\n",
    "    for(var i in imgs) {\n",
    "        if(typeof imgs[i].classList !== \"undefined\") {\n",
    "            if(imgs[i].classList.contains(\"leaflet-tile-loaded\")) {\n",
    "                var srcArr=imgs[i].src.split(\"/\");\n",
    "                var yIndex=srcArr[srcArr.length-1];\n",
    "                var xIndex=srcArr[srcArr.length-2];\n",
    "                var zIndex=srcArr[srcArr.length-3];\n",
    "\n",
    "                var xy={\n",
    "                    \"x\": parseInt(xIndex),\n",
    "                    \"y\": parseInt(yIndex)\n",
    "                };\n",
    "\n",
    "                coordinates.push(xy);\n",
    "            }\n",
    "        }\n",
    "    }\n",
    "    console.log(JSON.stringify(coordinates));\n",
    "```\n",
    "The output shall look similar to this:<br>\n",
    "<img src=\"img/javascript_xy_console_output.png\" height=\"150px\" /><br>\n",
    "After running the JavaScript code snippet, all x,y coordinates are retrieved from the image src attribute of each ```<img />``` tag of the basemap at zoom level `11`<br>\n",
    "<b>Explanation</b>: Since the image src format of each map tile rendered in the basemap follows the following convention: ```http://c.tile.stamen.com/toner-hybrid/11/1614/1016@2x.png``` by delimiting it by the token ```/``` and transforming it into an array, we can see the following result:<br>\n",
    "\n",
    "| 0 | 1 | 2 | 3 | 4 | 5 | 6 |\n",
    "|---|---|---|---|---|---|---|\n",
    "| http: |   | c.tile.stamen.com | toner-hybrid | `11` | `1614` | `1016@2x.png` |\n",
    "\n",
    "<br><b>Explanation</b>: The top column represents the index of the array. In this case, at zoom level `11`: \n",
    "* `x` can be found at position `5`\n",
    "* `y` can be found at position `6`\n",
    "Other possible basemap choices from maps.stamen include:<br>\n",
    "\n",
    "| Type | URL |\n",
    "|------|-----|\n",
    "| toner | http://tile.stamen.com/toner/{z}/{x}/{y}.png |\n",
    "| terrain | http://tile.stamen.com/terrain/{z}/{x}/{y}.jpg |\n",
    "| watercolor | http://tile.stamen.com/watercolor/{z}/{x}/{y}.jpg |"
   ]
  },
  {
   "cell_type": "markdown",
   "metadata": {},
   "source": [
    "## Step 2. Import python packages and Initialise functions for Latitude/Longitude or X/Y conversion"
   ]
  },
  {
   "cell_type": "code",
   "execution_count": 1,
   "metadata": {},
   "outputs": [],
   "source": [
    "import math\n",
    "from math import pow\n",
    "import os\n",
    "import requests"
   ]
  },
  {
   "cell_type": "markdown",
   "metadata": {},
   "source": [
    "The function `num2deg` transforms the `x` and `y` into `latitude` and `longitude` respectively based on zoom level (`zoom` parameter). Source of code snippet at <a href=\"https://wiki.openstreetmap.org/wiki/Slippy_map_tilenames#Lon..2Flat._to_tile_numbers_2\" target=\"blank\">Slippy_map_tilenames</a>."
   ]
  },
  {
   "cell_type": "code",
   "execution_count": 2,
   "metadata": {},
   "outputs": [],
   "source": [
    "def num2deg(xtile, ytile, zoom):\n",
    "  n = 2.0 ** zoom\n",
    "  lon_deg = xtile / n * 360.0 - 180.0\n",
    "  lat_rad = math.atan(math.sinh(math.pi * (1 - 2 * ytile / n)))\n",
    "  lat_deg = math.degrees(lat_rad)\n",
    "  return (lat_deg, lon_deg)"
   ]
  },
  {
   "cell_type": "markdown",
   "metadata": {},
   "source": [
    "The function `deg2num` transforms the `lat_deg` and `lon_deg` into `x` and `y` of a tile image respectively based on zoom level (`zoom` parameter) Source of code snippet at <a href=\"https://wiki.openstreetmap.org/wiki/Slippy_map_tilenames#Lon..2Flat._to_tile_numbers_2\" target=\"blank\">Slippy_map_tilenames</a>."
   ]
  },
  {
   "cell_type": "code",
   "execution_count": 3,
   "metadata": {},
   "outputs": [],
   "source": [
    "def deg2num(lat_deg, lon_deg, zoom):\n",
    "  lat_rad = math.radians(lat_deg)\n",
    "  n = 2.0 ** zoom\n",
    "  xtile = int((lon_deg + 180.0) / 360.0 * n)\n",
    "  ytile = int((1.0 - math.asinh(math.tan(lat_rad)) / math.pi) / 2.0 * n)\n",
    "  return (xtile, ytile)"
   ]
  },
  {
   "cell_type": "markdown",
   "metadata": {},
   "source": [
    "### 2.1 Transform all tile coordinates(x,y) into coordinates(latitude,longitude) to combine all markers as a single <a href=\"https://tools.ietf.org/html/rfc7946#section-3.3\" target=\"blank\">GeoJSON Feature Collection</a> object"
   ]
  },
  {
   "cell_type": "markdown",
   "metadata": {},
   "source": [
    "Copy and Paste the output from Step 1 and store it into the variable `xy`:"
   ]
  },
  {
   "cell_type": "code",
   "execution_count": 4,
   "metadata": {},
   "outputs": [],
   "source": [
    "xy=[\n",
    "    {\"x\":1614,\"y\":1016},{\"x\":1615,\"y\":1016},{\"x\":1614,\"y\":1015},\n",
    "    {\"x\":1615,\"y\":1015},{\"x\":1614,\"y\":1017},{\"x\":1615,\"y\":1017},\n",
    "    {\"x\":1613,\"y\":1016},{\"x\":1616,\"y\":1016},{\"x\":1613,\"y\":1015},\n",
    "    {\"x\":1616,\"y\":1015},{\"x\":1613,\"y\":1017},{\"x\":1616,\"y\":1017},\n",
    "    {\"x\":1612,\"y\":1016},{\"x\":1617,\"y\":1016},{\"x\":1612,\"y\":1015},\n",
    "    {\"x\":1617,\"y\":1015},{\"x\":1612,\"y\":1017},{\"x\":1617,\"y\":1017}\n",
    "]"
   ]
  },
  {
   "cell_type": "markdown",
   "metadata": {},
   "source": [
    "Specify minimum and maximum zoom levels here i.e.The minimum zoom level in Step 1:"
   ]
  },
  {
   "cell_type": "code",
   "execution_count": 5,
   "metadata": {},
   "outputs": [],
   "source": [
    "minZoomLevel=11 # IMPORTANT! Ensure that your minZoomLevel is the same as the one you decided intially\n",
    "maxZoomLevel=15 # The upper limit of zoom level set on the basemap"
   ]
  },
  {
   "cell_type": "markdown",
   "metadata": {},
   "source": [
    "Specify the name of the folder the basemap will be saved in:"
   ]
  },
  {
   "cell_type": "code",
   "execution_count": 6,
   "metadata": {},
   "outputs": [],
   "source": [
    "directoryPrefix=\"toner_hybrid/\" # e.g. \"toner_hybrid\""
   ]
  },
  {
   "cell_type": "markdown",
   "metadata": {},
   "source": [
    "Initialise a GeoJSON Feature Collection object"
   ]
  },
  {
   "cell_type": "code",
   "execution_count": 7,
   "metadata": {},
   "outputs": [],
   "source": [
    "geojsonObj={\n",
    "  \"type\": \"FeatureCollection\",\n",
    "  \"features\": []\n",
    "}"
   ]
  },
  {
   "cell_type": "markdown",
   "metadata": {},
   "source": [
    "<b>KIV</b>: The following 4 variables would be use for later calculations."
   ]
  },
  {
   "cell_type": "code",
   "execution_count": 8,
   "metadata": {},
   "outputs": [],
   "source": [
    "minXVal=None\n",
    "maxXVal=None\n",
    "\n",
    "minYVal=None\n",
    "maxYVal=None"
   ]
  },
  {
   "cell_type": "code",
   "execution_count": 9,
   "metadata": {},
   "outputs": [],
   "source": [
    "for item in xy:\n",
    "    x=item[\"x\"]\n",
    "    y=item[\"y\"]\n",
    "    if (minXVal is None) or (x <= minXVal):\n",
    "        minXVal=x\n",
    "        \n",
    "    if (minYVal is None) or (y <= minYVal):\n",
    "        minYVal=y\n",
    "    \n",
    "    if (maxXVal is None) or (x >= maxXVal):\n",
    "        maxXVal=x\n",
    "        \n",
    "    if (maxYVal is None) or (y >= maxYVal):\n",
    "        maxYVal=y\n",
    "\n",
    "    lat=num2deg(x, y, minZoomLevel)[0]\n",
    "    lng=num2deg(x, y, minZoomLevel)[1]\n",
    "    feature={\n",
    "      \"type\":\"Feature\",\n",
    "      \"geometry\": {\n",
    "        \"type\": \"Point\",\n",
    "        \"coordinates\": [\n",
    "          lng,\n",
    "          lat\n",
    "        ]\n",
    "       },\n",
    "        \"properties\": {\n",
    "          \"zoom\": minZoomLevel\n",
    "        } \n",
    "    }\n",
    "    geojsonObj[\"features\"].append(feature)"
   ]
  },
  {
   "cell_type": "markdown",
   "metadata": {},
   "source": [
    "Proceed to output the GeoJSON into a file named: `output.geojson`"
   ]
  },
  {
   "cell_type": "code",
   "execution_count": 10,
   "metadata": {
    "scrolled": true
   },
   "outputs": [
    {
     "name": "stdout",
     "output_type": "stream",
     "text": [
      "GeoJSON has been saved to file: output.geojson\n"
     ]
    }
   ],
   "source": [
    "geojson=str(geojsonObj).replace(\"'\",\"\\\"\")\n",
    "\n",
    "geojson_file = open(\"output.geojson\", \"w\")\n",
    "geojson_file.write(geojson)\n",
    "geojson_file.close()\n",
    "\n",
    "print(\"GeoJSON has been saved to file: output.geojson\")"
   ]
  },
  {
   "cell_type": "code",
   "execution_count": 11,
   "metadata": {},
   "outputs": [
    {
     "name": "stdout",
     "output_type": "stream",
     "text": [
      "Value of minXVal is: 1612\n",
      "Value of maxXVal is: 1617\n",
      "Value of minYVal is: 1015\n",
      "Value of maxYVal is: 1017\n"
     ]
    }
   ],
   "source": [
    "# print out min max of x and y\n",
    "print(\"Value of minXVal is: \" + str(minXVal))\n",
    "print(\"Value of maxXVal is: \" + str(maxXVal))\n",
    "\n",
    "print(\"Value of minYVal is: \" + str(minYVal))\n",
    "print(\"Value of maxYVal is: \" + str(maxYVal))"
   ]
  },
  {
   "cell_type": "markdown",
   "metadata": {},
   "source": [
    "Retrieve the tile dimensions for minZoomLevel specified i.e. zoom level 11"
   ]
  },
  {
   "cell_type": "code",
   "execution_count": 12,
   "metadata": {},
   "outputs": [
    {
     "name": "stdout",
     "output_type": "stream",
     "text": [
      "Dimensions of map are: 6 x 3 tiles for zoom level 11\n"
     ]
    }
   ],
   "source": [
    "noOfx={}\n",
    "noOfy={}\n",
    "\n",
    "for item in xy:\n",
    "    x=item[\"x\"]\n",
    "    y=item[\"y\"]\n",
    "    noOfx[x]=0\n",
    "    noOfy[y]=0\n",
    "    \n",
    "xTileDimension=len(list(noOfx.keys()))\n",
    "yTileDimension=len(list(noOfy.keys()))\n",
    "\n",
    "print(\"Dimensions of map are: \" + str(xTileDimension) + \" x \" + str(yTileDimension) + \" tiles for zoom level \" + str(minZoomLevel))"
   ]
  },
  {
   "cell_type": "markdown",
   "metadata": {},
   "source": [
    "#### 2.2 Visualise map markers (Optional - As proof of tile dimensions)\n",
    "Render the GeoJSON file onto any map rendering platform to view the coordinates on the actual map. My personal recommendation would be http://geojson.io/ due to its intuitive interface and useful functionalities. Based on the above example, the coordinates transformed from the tiles at zoom level `11` shall look as such:\n",
    "<img src=\"img/xy_map_geojson.png\" height=\"150px\" /><br>\n",
    "Take note that the dimensions of the above image shows <b>6 × 3 map markers</b>, which is equivalent to <b>6 × 3 tiles</b>. This corresponds to the calculations above for the tile dimensions."
   ]
  },
  {
   "cell_type": "markdown",
   "metadata": {},
   "source": [
    "## Step 3. Calculating the (X,Y) values for other zoom levels\n",
    "\n",
    "Before proceeding to the actual calculation, it is important to establish the fact that tile coordinates of a slippy map follows the below rules:\n",
    "* Total no. of tiles=2<sup>zoom</sup> × 2<sup>zoom</sup> E.g. Zoom Level `11` has 2<sup>11</sup> × 2<sup>11</sup> = 2048 × 2048\n",
    "* Based on the markers visualised on the map, the no. of tiles is: <b>6 × 3 tiles</b> where this corresponds to the dimensions derived earlier on - <b>`xTileDimension` × `yTileDimension` tiles</b>:<br><br>\n",
    "\n",
    "<b>min(x)</b> = `minXVal` = 1612<br>\n",
    "<b>max(x)</b> = `maxXVal` =  1617<br>\n",
    "<br>\n",
    "<b>min(y)</b> = `minYVal` =  1015<br>\n",
    "<b>max(y)</b> = `maxYVal` =  1017<br>\n",
    "<pre>\n",
    "|----------------\n",
    "_ x: 1612..1617\n",
    "|\n",
    "|\n",
    "|\n",
    "|\n",
    "y:1015..1017\n",
    "</pre>"
   ]
  },
  {
   "cell_type": "markdown",
   "metadata": {},
   "source": [
    "Hence, based on the above logic, for zoom level `12`:\n",
    "* Total no. of tiles=2<sup>12</sup> × 2<sup>12</sup> = 4096 × 4096\n",
    "* This translates to: (2<sup>12</sup>/2<sup>11</sup>)×`xTileDimension` × (2<sup>12</sup>/2<sup>11</sup>)×`yTileDimension` = (4096/2048)×6 × (4096/2048)×3 tiles = <b>12 × 6 tiles</b> where:<br><br>\n",
    "\n",
    "<b>min(x)</b> = (`minXVal`/`xTileDimension`) × (xTileDimension of zoom=12) = (1612/6) × 12 = 3224<br>\n",
    "<b>max(x)</b> = (`maxXVal`/`xTileDimension`) × (xTileDimension of zoom=12) = (1617/6) × 12 = 3234<br>\n",
    "\n",
    "<br>\n",
    "\n",
    "<b>min(y)</b> = (`minYVal`/`yTileDimension`) × (yTileDimension of zoom=12) = (1015/3) × 6 = 2030<br>\n",
    "<b>max(y)</b> = (`maxYVal`/`yTileDimension`) × (yTileDimension of zoom=12) = (1018/3) × 6 = 2036<br>\n",
    "\n",
    "<pre>\n",
    "|----------------\n",
    "_ x: 3224..3234\n",
    "|\n",
    "|\n",
    "|\n",
    "|\n",
    "y:2030..2036\n",
    "</pre>"
   ]
  },
  {
   "cell_type": "markdown",
   "metadata": {},
   "source": [
    "### 3.1 Proof of Concept that the above equation is valid (optional)"
   ]
  },
  {
   "cell_type": "code",
   "execution_count": 13,
   "metadata": {},
   "outputs": [],
   "source": [
    "urlPrefix=\"http://tile.stamen.com/toner-hybrid/\"\n",
    "tileUrls=[]\n",
    "zoom_level=12\n",
    "for x in range(3224,3234+1,1):\n",
    "  for y in range(2030,2036+1,1):\n",
    "      tileUrl=urlPrefix+str(zoom_level) + \"/\" + str(x) + \"/\" + str(y) + \".png\"\n",
    "      tileUrls.append(tileUrl)"
   ]
  },
  {
   "cell_type": "markdown",
   "metadata": {},
   "source": [
    "Proceed to output some of the tileUrls and select a few links to view the tile image(s).<br>\n",
    "* If it is a broken link, the map service is probably down so seek another map service.\n",
    "* Else, the image should render a part of the basemap to be hosted offline subsequently"
   ]
  },
  {
   "cell_type": "code",
   "execution_count": 14,
   "metadata": {},
   "outputs": [
    {
     "data": {
      "text/plain": [
       "['http://tile.stamen.com/toner-hybrid/12/3224/2030.png',\n",
       " 'http://tile.stamen.com/toner-hybrid/12/3224/2031.png',\n",
       " 'http://tile.stamen.com/toner-hybrid/12/3224/2032.png',\n",
       " 'http://tile.stamen.com/toner-hybrid/12/3224/2033.png',\n",
       " 'http://tile.stamen.com/toner-hybrid/12/3224/2034.png',\n",
       " 'http://tile.stamen.com/toner-hybrid/12/3224/2035.png',\n",
       " 'http://tile.stamen.com/toner-hybrid/12/3224/2036.png',\n",
       " 'http://tile.stamen.com/toner-hybrid/12/3225/2030.png',\n",
       " 'http://tile.stamen.com/toner-hybrid/12/3225/2031.png',\n",
       " 'http://tile.stamen.com/toner-hybrid/12/3225/2032.png',\n",
       " 'http://tile.stamen.com/toner-hybrid/12/3225/2033.png',\n",
       " 'http://tile.stamen.com/toner-hybrid/12/3225/2034.png']"
      ]
     },
     "execution_count": 14,
     "metadata": {},
     "output_type": "execute_result"
    }
   ],
   "source": [
    "tileUrls[:12]"
   ]
  },
  {
   "cell_type": "markdown",
   "metadata": {},
   "source": [
    "From the illustration of the above calculations, it is now possible to calculate and retrieve all the basemap tile images required. Moving on, a folder hierarchy shall be set up in accordance to Slippy map rules to contain the subsequent tile images saved locally.<br><br>\n",
    "<u>Screenshot of browser backend from the site hosting the map service.</u><br>\n",
    "<img src=\"img/basemap_folder_hierarchy.png\" width=\"250px\" /><br>\n",
    "It can be inferred from the above that map tile images are stored in following folder structure:\n",
    "<pre>\n",
    "    |--zoom level directory\n",
    "    |     |---x-tile coordinate directory\n",
    "    |           |---y-tile coordinate image/png file\n",
    "</pre>\n",
    "The next section shall attempt to create the required folder hierarchy. Before executing this, a zoom upper limit of the basemap should be determined. Conventionally, `17` or `18` are good choices when users are required to view street level details. For this tutorial I shall set my zoom level upper limit to just `15`."
   ]
  },
  {
   "cell_type": "markdown",
   "metadata": {},
   "source": [
    "### 3.2 Creation of Folder Structure"
   ]
  },
  {
   "cell_type": "markdown",
   "metadata": {},
   "source": [
    "<b>Recall</b>: At zoom level `12`,<br>\n",
    "* Total no. of tiles=2<sup>12</sup> × 2<sup>12</sup> = 4096 × 4096\n",
    "* This translates to: (2<sup>12</sup>/2<sup>11</sup>)×`xTileDimension` × (2<sup>12</sup>/2<sup>11</sup>)×`yTileDimension` = (4096/2048)×6 × (4096/2048)×3 tiles = <b>12 × 6 tiles</b> where:<br><br>\n",
    "\n",
    "<b>min(x)</b> = (`minXVal`/`xTileDimension`) × (xTileDimension of zoom=12) = (1612/6) × 12 = 3224<br>\n",
    "<b>max(x)</b> = (`maxXVal`/`xTileDimension`) × (xTileDimension of zoom=12) = (1617/6) × 12 = 3234<br>\n",
    "\n",
    "<br>\n",
    "\n",
    "<b>min(y)</b> = (`minYVal`/`yTileDimension`) × (yTileDimension of zoom=12) = (1015/3) × 6 = 2030<br>\n",
    "<b>max(y)</b> = (`maxYVal`/`yTileDimension`) × (yTileDimension of zoom=12) = (1018/3) × 6 = 2036<br>\n",
    "\n",
    "<pre>\n",
    "|----------------\n",
    "_ x: 3224..3234\n",
    "|\n",
    "|\n",
    "|\n",
    "|\n",
    "y:2030..2036\n",
    "</pre>"
   ]
  },
  {
   "cell_type": "markdown",
   "metadata": {},
   "source": [
    "<b>There</b>: At zoom level `n`,<br>\n",
    "* Total no. of tiles=2<sup>n</sup> × 2<sup>n</sup>\n",
    "* This translates to: <br>\n",
    "(2<sup>n</sup>/2<sup>minZoomLevel</sup>)×`xTileDimension` × (2<sup>n</sup>/2<sup>minZoomLevel</sup>)×`yTileDimension` where:<br><br>\n",
    "\n",
    "<b>min(x)</b> = (`minXVal`/`xTileDimension`) × (xTileDimension of zoom=n)<br>\n",
    "              = (`minXVal`/`xTileDimension`) × (2<sup>n</sup>/2<sup>minZoomLevel</sup>)×`xTileDimension`<br>\n",
    "              \n",
    "<b>max(x)</b> = (`maxXVal`/`xTileDimension`) × (xTileDimension of zoom=n)<br>\n",
    "              = (`maxXVal`/`xTileDimension`) × (2<sup>n</sup>/2<sup>minZoomLevel</sup>)×`xTileDimension`<br>\n",
    "              \n",
    "<br>\n",
    "\n",
    "<b>min(y)</b> = (`minYVal`/`yTileDimension`) × (yTileDimension of zoom=n)<br>\n",
    "              = (`minYVal`/`yTileDimension`) × (2<sup>n</sup>/2<sup>minZoomLevel</sup>)×`yTileDimension`<br>\n",
    "              \n",
    "<b>max(y)</b> = (`maxYVal`/`yTileDimension`) × (yTileDimension of zoom=n)<br>\n",
    "              = (`maxYVal`/`yTileDimension`) × (2<sup>n</sup>/2<sup>minZoomLevel</sup>)×`yTileDimension`<br>\n",
    "\n",
    "<pre>\n",
    "|----------------\n",
    "_ x: min(x)..max(x)\n",
    "|\n",
    "|\n",
    "|\n",
    "|\n",
    "y:min(y)..max(y)\n",
    "</pre>\n",
    "\n",
    "To reduce repetitive code, a function shall be created to apply the above logic in order to retrieve that `x` and `y` coordinates of the tiles at any zoom level."
   ]
  },
  {
   "cell_type": "code",
   "execution_count": 20,
   "metadata": {},
   "outputs": [
    {
     "name": "stdout",
     "output_type": "stream",
     "text": [
      "Folder structure for zoom levels 11 to 15 has been created.\n"
     ]
    }
   ],
   "source": [
    "def initDirectoryStructure(n): # where n refers to the zoom level\n",
    "    minX=(minXVal/xTileDimension)*( pow(2,n)/pow(2,minZoomLevel)*xTileDimension)\n",
    "    maxX=(maxXVal/xTileDimension)*( pow(2,n)/pow(2,minZoomLevel)*xTileDimension) \n",
    "    \n",
    "    minY=(minYVal/yTileDimension)*( pow(2,n)/pow(2,minZoomLevel)*yTileDimension)\n",
    "    maxY=(maxYVal/yTileDimension)*( pow(2,n)/pow(2,minZoomLevel)*yTileDimension)\n",
    "    \n",
    "    minX=int(minX)\n",
    "    maxX=int(maxX)\n",
    "    minY=int(minY)\n",
    "    maxY=int(maxY)\n",
    "    \n",
    "    for x in range(minX,maxX+1,1):\n",
    "      for y in range(minY,maxY+1,1):\n",
    "            directory=directoryPrefix+str(n) + \"/\" + str(x)\n",
    "            if not os.path.exists(directory):\n",
    "                os.makedirs(directory)\n",
    "\n",
    "# Execute function to create folder structures for zoom levels minZoomLevel to maxZoomLevel (inclusive)\n",
    "for z in range(minZoomLevel,maxZoomLevel+1,1):\n",
    "    initDirectoryStructure(z)\n",
    "    \n",
    "print(\"Folder structure for zoom levels \" + str(minZoomLevel) + \" to \" + str(maxZoomLevel) + \" has been created.\")"
   ]
  },
  {
   "cell_type": "markdown",
   "metadata": {},
   "source": [
    "## Step 4. Stream the tile images into the local folders created\n",
    "After initialisation of the folder structure, we can now retrieve tile images of zoom levels which fall within the range of `minZoomLevel` and `maxZoomLevel` (inclusive) from the basemap service.\n",
    "\n",
    "### A note of caution: \n",
    "1. This step can take up to a few hours if the specified zoom level upper limit is high e.g. Above zoom level `17` will increase the duration of running the next code significantly \n",
    "2. The output tile images are going to take up a fair amount of disk space. Generally, raster tiles from map services such as OpenStreetMap comprising of zoom levels `11` to `17` for a single country takes up approximately ~500MB. \n",
    "3. If the type of basemap getting hosted is a Satellite map, due to high resolutions of Satellite imagery, the final output often amounts to a few GB so it will be wise to ensure enough disk space is available before saving the tile images to the local disk drive."
   ]
  },
  {
   "cell_type": "code",
   "execution_count": 22,
   "metadata": {},
   "outputs": [
    {
     "name": "stdout",
     "output_type": "stream",
     "text": [
      "All map tile images for zoom levels 11 to 15 have been saved to local directories.\n"
     ]
    }
   ],
   "source": [
    "basemapUrlPrefix=\"http://tile.stamen.com/toner-hybrid/\"\n",
    "basemapUrlSuffix=\".png\"\n",
    "\n",
    "def streamTileImages(n): # where n refers to the zoom level\n",
    "    minX=(minXVal/xTileDimension)*( pow(2,n)/pow(2,minZoomLevel)*xTileDimension)\n",
    "    maxX=(maxXVal/xTileDimension)*( pow(2,n)/pow(2,minZoomLevel)*xTileDimension) \n",
    "    \n",
    "    minY=(minYVal/yTileDimension)*( pow(2,n)/pow(2,minZoomLevel)*yTileDimension)\n",
    "    maxY=(maxYVal/yTileDimension)*( pow(2,n)/pow(2,minZoomLevel)*yTileDimension)\n",
    "    \n",
    "    minX=int(minX)\n",
    "    maxX=int(maxX)\n",
    "    minY=int(minY)\n",
    "    maxY=int(maxY)\n",
    "    \n",
    "    for x in range(minX,maxX+1,1):\n",
    "      for y in range(minY,maxY+1,1):\n",
    "            # send a HTTP request to retrieve the tile image file\n",
    "            basemapTileUrl=basemapUrlPrefix+str(n) + \"/\" + str(x) + \"/\" + str(y) + basemapUrlSuffix\n",
    "            r = requests.get(basemapTileUrl)\n",
    "            # proceed to save it as a local image file in the folders created in step 3\n",
    "            save_as_filename=directoryPrefix+str(n) + \"/\" + str(x) + \"/\" + str(y) + \".png\"\n",
    "            with open(save_as_filename,\"wb\") as local_tile_image:\n",
    "                local_tile_image.write(r.content) \n",
    "\n",
    "for z in range(minZoomLevel,maxZoomLevel+1,1):\n",
    "    streamTileImages(z)\n",
    "    \n",
    "print(\"All map tile images for zoom levels \" + str(minZoomLevel) + \" to \" + str(maxZoomLevel) + \" have been saved to local directories.\")"
   ]
  },
  {
   "cell_type": "markdown",
   "metadata": {},
   "source": [
    "### Summary of output from the above steps:\n",
    "<img src=\"img/streamed_tile_images_output.png\" height=\"150px\" />"
   ]
  },
  {
   "cell_type": "markdown",
   "metadata": {},
   "source": [
    "### 4.1 Host Folders on a web server to ensure tile images are saved successfully\n",
    "Finally, to ensure that the correct tile images were saved, a web server should be set up and call the basemap directly from the folders (packaging should only be done after ensuring that the basemap renders correctly).<br>\n",
    "<br>\n",
    "For this demonstration, the libraries `Flask` and `werkzeug` shall be used to set up a web server directly in this notebook to host the basemap.<br><br>\n",
    "<u>Pre-requisites</u>\n",
    "* Include the base leaflet library: <a href=\"https://unpkg.com/leaflet@1.0.0/dist/leaflet.css\" target=\"blank\">leaflet stylesheet</a> and <a href=\"https://unpkg.com/leaflet@1.0.0/dist/leaflet-src.js\" target=\"blank\">leafletJS</a>\n",
    "* Include the leaflet plugin <a href=\"http://ivansanchez.gitlab.io/Leaflet.TileLayer.MBTiles/Leaflet.TileLayer.MBTiles.js\" target=\"blank\">L.TileLayer.mbTiles plugin</a> and its dependency <a href=\"https://unpkg.com/sql.js@0.3.2/js/sql.js\" target=\"blank\">sql.js</a>\n",
    "* Place the file `output.geojson` generated from Step 2 into the `static` folder in the below directory structure specified\n",
    "* Copy and paste the folder of tile images e.g. <b>toner</b> into the `static/maps` folder in the below directory structure specified\n",
    "\n",
    "<pre>\n",
    "    |--Jupyter Notebook (ipynb file)\n",
    "    |\n",
    "    |--templates (folder)\n",
    "    |    |--index.html\n",
    "    |\n",
    "    |--static (folder)\n",
    "    |    |--favicon.ico\n",
    "    |    |--loading.gif\n",
    "    |    |--onemap.png\n",
    "    |    |--output.geojson \n",
    "    |    |\n",
    "    |    |--css (folder)\n",
    "    |    |   |--leaflet.css\n",
    "    |    |   |--images (folder)\n",
    "    |    |        |--layers.png\n",
    "    |    |        |--layers-2x.png\n",
    "    |    |        |--marker-icon.png\n",
    "    |    |   \n",
    "    |    |--js (folder)\n",
    "    |    |   |--leaflet.js\n",
    "    |    |   |--Leaflet.TileLayer.MBTiles.js\n",
    "    |    |   |--sql.js\n",
    "    |    |\n",
    "    |    |--maps (folder) \n",
    "    |        |--(folder of tile images e.g.toner)\n",
    "    |\n",
    "<pre>"
   ]
  },
  {
   "cell_type": "markdown",
   "metadata": {},
   "source": [
    "Finally, proceed to include the following code snippet in <b>index.html</b> between the `<script></script>` tags to render the basemap directly from the folders:<br>\n",
    "\n",
    "```javascript\n",
    "        var map = new L.Map(\"map\", {\n",
    "          minZoom: 11,\n",
    "          maxZoom: 15,\n",
    "          maxBoundsViscocity: 1\n",
    "        });\n",
    "        var basemapLayer=L.tileLayer(\"static/maps/toner/{z}/{x}/{y}.png\", {\n",
    "          minZoom: 11,\n",
    "          maxZoom: 15,\n",
    "          maxBoundsViscocity: 1,\n",
    "          errorTileUrl: \"static/error.png\",\n",
    "          attribution: \"<span class='prefix-attribution'><em>Map tiles by <a href='http://stamen.com' target='blank'>Stamen Design</a>, under <a href='http://creativecommons.org/licenses/by/3.0' target='blank'>CC BY 3.0</a>. Data by <a href='http://openstreetmap.org' target='blank'>OpenStreetMap</a>, under <a href='http://www.openstreetmap.org/copyright' target='blank'>ODbL</a>.</span>\"\n",
    "        }).addTo(map);\n",
    "\n",
    "        var xhr = new XMLHttpRequest();\n",
    "        xhr.open(\"GET\", \"static/output.geojson\");\n",
    "        xhr.setRequestHeader(\"Content-Type\", \"application/json\");\n",
    "        xhr.responseType = \"json\";\n",
    "        xhr.onload = function() {\n",
    "            if (xhr.status !== 200) {\n",
    "              return\n",
    "            }\n",
    "            var geoJSONLayer=L.geoJSON(xhr.response);\n",
    "            map.fitBounds(geoJSONLayer.getBounds());\n",
    "            map.setMaxBounds(geoJSONLayer.getBounds());\n",
    "        };\n",
    "        xhr.send();\n",
    "```\n",
    "<b>Explanation of Code Snippet</b>: \n",
    "* The above code snippet intialises a new map object with leafletJS. \n",
    "* The file <b>output.geojson</b> generated from Step 2 is called via AJAX and proceeds to set the map view within the basemap's bbox."
   ]
  },
  {
   "cell_type": "code",
   "execution_count": 26,
   "metadata": {},
   "outputs": [
    {
     "name": "stderr",
     "output_type": "stream",
     "text": [
      " * Running on http://localhost:9000/ (Press CTRL+C to quit)\n",
      "127.0.0.1 - - [01/Nov/2020 21:01:08] \"\u001b[37mGET / HTTP/1.1\u001b[0m\" 200 -\n",
      "127.0.0.1 - - [01/Nov/2020 21:01:14] \"\u001b[33mGET /static/js/leaflet-src.map HTTP/1.1\u001b[0m\" 404 -\n",
      "127.0.0.1 - - [01/Nov/2020 21:01:24] \"\u001b[37mGET / HTTP/1.1\u001b[0m\" 200 -\n",
      "127.0.0.1 - - [01/Nov/2020 21:01:24] \"\u001b[37mGET /static/css/leaflet.css HTTP/1.1\u001b[0m\" 200 -\n",
      "127.0.0.1 - - [01/Nov/2020 21:01:25] \"\u001b[37mGET /static/js/leaflet.js HTTP/1.1\u001b[0m\" 200 -\n",
      "127.0.0.1 - - [01/Nov/2020 21:01:25] \"\u001b[37mGET /static/js/sql.js HTTP/1.1\u001b[0m\" 200 -\n",
      "127.0.0.1 - - [01/Nov/2020 21:01:25] \"\u001b[37mGET /static/js/Leaflet.TileLayer.MBTiles.js HTTP/1.1\u001b[0m\" 200 -\n",
      "127.0.0.1 - - [01/Nov/2020 21:01:25] \"\u001b[37mGET /static/loading.gif HTTP/1.1\u001b[0m\" 200 -\n",
      "127.0.0.1 - - [01/Nov/2020 21:01:25] \"\u001b[37mGET /static/output.geojson HTTP/1.1\u001b[0m\" 200 -\n",
      "127.0.0.1 - - [01/Nov/2020 21:01:25] \"\u001b[37mGET /static/maps/toner_hybrid/11/1615/1015.png HTTP/1.1\u001b[0m\" 200 -\n",
      "127.0.0.1 - - [01/Nov/2020 21:01:25] \"\u001b[37mGET /static/maps/toner_hybrid/11/1613/1016.png HTTP/1.1\u001b[0m\" 200 -\n",
      "127.0.0.1 - - [01/Nov/2020 21:01:25] \"\u001b[37mGET /static/maps/toner_hybrid/11/1615/1016.png HTTP/1.1\u001b[0m\" 200 -\n",
      "127.0.0.1 - - [01/Nov/2020 21:01:25] \"\u001b[37mGET /static/maps/toner_hybrid/11/1613/1017.png HTTP/1.1\u001b[0m\" 200 -\n",
      "127.0.0.1 - - [01/Nov/2020 21:01:25] \"\u001b[37mGET /static/maps/toner_hybrid/11/1615/1014.png HTTP/1.1\u001b[0m\" 200 -\n",
      "127.0.0.1 - - [01/Nov/2020 21:01:25] \"\u001b[37mGET /static/maps/toner_hybrid/11/1613/1014.png HTTP/1.1\u001b[0m\" 200 -\n",
      "127.0.0.1 - - [01/Nov/2020 21:01:26] \"\u001b[37mGET /static/maps/toner_hybrid/11/1614/1014.png HTTP/1.1\u001b[0m\" 200 -\n",
      "127.0.0.1 - - [01/Nov/2020 21:01:26] \"\u001b[37mGET /static/maps/toner_hybrid/11/1614/1017.png HTTP/1.1\u001b[0m\" 200 -\n",
      "127.0.0.1 - - [01/Nov/2020 21:01:26] \"\u001b[37mGET /static/maps/toner_hybrid/11/1615/1017.png HTTP/1.1\u001b[0m\" 200 -\n",
      "127.0.0.1 - - [01/Nov/2020 21:01:26] \"\u001b[37mGET /static/maps/toner_hybrid/11/1612/1015.png HTTP/1.1\u001b[0m\" 200 -\n",
      "127.0.0.1 - - [01/Nov/2020 21:01:26] \"\u001b[37mGET /static/maps/toner_hybrid/11/1616/1015.png HTTP/1.1\u001b[0m\" 200 -\n",
      "127.0.0.1 - - [01/Nov/2020 21:01:26] \"\u001b[37mGET /static/maps/toner_hybrid/11/1612/1016.png HTTP/1.1\u001b[0m\" 200 -\n",
      "127.0.0.1 - - [01/Nov/2020 21:01:26] \"\u001b[37mGET /static/maps/toner_hybrid/11/1616/1016.png HTTP/1.1\u001b[0m\" 200 -\n",
      "127.0.0.1 - - [01/Nov/2020 21:01:26] \"\u001b[37mGET /static/maps/toner_hybrid/11/1612/1014.png HTTP/1.1\u001b[0m\" 200 -\n",
      "127.0.0.1 - - [01/Nov/2020 21:01:26] \"\u001b[37mGET /static/maps/toner_hybrid/11/1616/1014.png HTTP/1.1\u001b[0m\" 200 -\n",
      "127.0.0.1 - - [01/Nov/2020 21:01:26] \"\u001b[37mGET /static/maps/toner_hybrid/11/1614/1015.png HTTP/1.1\u001b[0m\" 200 -\n",
      "127.0.0.1 - - [01/Nov/2020 21:01:26] \"\u001b[37mGET /static/maps/toner_hybrid/11/1614/1016.png HTTP/1.1\u001b[0m\" 200 -\n",
      "127.0.0.1 - - [01/Nov/2020 21:01:26] \"\u001b[37mGET /static/maps/toner_hybrid/11/1613/1015.png HTTP/1.1\u001b[0m\" 200 -\n",
      "127.0.0.1 - - [01/Nov/2020 21:01:26] \"\u001b[37mGET /static/maps/toner_hybrid/11/1612/1017.png HTTP/1.1\u001b[0m\" 200 -\n",
      "127.0.0.1 - - [01/Nov/2020 21:01:26] \"\u001b[37mGET /static/maps/toner_hybrid/11/1616/1017.png HTTP/1.1\u001b[0m\" 200 -\n",
      "127.0.0.1 - - [01/Nov/2020 21:01:26] \"\u001b[37mGET /static/onemap.png HTTP/1.1\u001b[0m\" 200 -\n",
      "127.0.0.1 - - [01/Nov/2020 21:01:26] \"\u001b[33mGET /static/js/leaflet-src.map HTTP/1.1\u001b[0m\" 404 -\n",
      "127.0.0.1 - - [01/Nov/2020 21:01:27] \"\u001b[37mGET /static/favicon.ico HTTP/1.1\u001b[0m\" 200 -\n",
      "127.0.0.1 - - [01/Nov/2020 21:01:34] \"\u001b[37mGET /static/maps/toner_hybrid/11/1617/1016.png HTTP/1.1\u001b[0m\" 200 -\n",
      "127.0.0.1 - - [01/Nov/2020 21:01:34] \"\u001b[37mGET /static/maps/toner_hybrid/11/1617/1015.png HTTP/1.1\u001b[0m\" 200 -\n",
      "127.0.0.1 - - [01/Nov/2020 21:01:34] \"\u001b[37mGET /static/maps/toner_hybrid/11/1617/1017.png HTTP/1.1\u001b[0m\" 200 -\n",
      "127.0.0.1 - - [01/Nov/2020 21:01:34] \"\u001b[33mGET /static/maps/toner_hybrid/11/1618/1016.png HTTP/1.1\u001b[0m\" 404 -\n",
      "127.0.0.1 - - [01/Nov/2020 21:01:34] \"\u001b[33mGET /static/maps/toner_hybrid/11/1618/1015.png HTTP/1.1\u001b[0m\" 404 -\n",
      "127.0.0.1 - - [01/Nov/2020 21:01:34] \"\u001b[33mGET /static/maps/toner_hybrid/11/1618/1017.png HTTP/1.1\u001b[0m\" 404 -\n",
      "127.0.0.1 - - [01/Nov/2020 21:01:35] \"\u001b[37mGET /static/maps/toner_hybrid/11/1617/1014.png HTTP/1.1\u001b[0m\" 200 -\n",
      "127.0.0.1 - - [01/Nov/2020 21:01:35] \"\u001b[37mGET /static/maps/toner_hybrid/12/3228/2031.png HTTP/1.1\u001b[0m\" 200 -\n",
      "127.0.0.1 - - [01/Nov/2020 21:01:36] \"\u001b[37mGET /static/maps/toner_hybrid/12/3229/2031.png HTTP/1.1\u001b[0m\" 200 -\n",
      "127.0.0.1 - - [01/Nov/2020 21:01:36] \"\u001b[37mGET /static/maps/toner_hybrid/12/3228/2032.png HTTP/1.1\u001b[0m\" 200 -\n",
      "127.0.0.1 - - [01/Nov/2020 21:01:36] \"\u001b[37mGET /static/maps/toner_hybrid/12/3229/2032.png HTTP/1.1\u001b[0m\" 200 -\n",
      "127.0.0.1 - - [01/Nov/2020 21:01:36] \"\u001b[37mGET /static/maps/toner_hybrid/12/3228/2030.png HTTP/1.1\u001b[0m\" 200 -\n",
      "127.0.0.1 - - [01/Nov/2020 21:01:36] \"\u001b[37mGET /static/maps/toner_hybrid/12/3229/2030.png HTTP/1.1\u001b[0m\" 200 -\n",
      "127.0.0.1 - - [01/Nov/2020 21:01:36] \"\u001b[37mGET /static/maps/toner_hybrid/12/3230/2032.png HTTP/1.1\u001b[0m\" 200 -\n",
      "127.0.0.1 - - [01/Nov/2020 21:01:36] \"\u001b[37mGET /static/maps/toner_hybrid/12/3227/2031.png HTTP/1.1\u001b[0m\" 200 -\n",
      "127.0.0.1 - - [01/Nov/2020 21:01:36] \"\u001b[37mGET /static/maps/toner_hybrid/12/3230/2031.png HTTP/1.1\u001b[0m\" 200 -\n",
      "127.0.0.1 - - [01/Nov/2020 21:01:36] \"\u001b[37mGET /static/maps/toner_hybrid/12/3228/2033.png HTTP/1.1\u001b[0m\" 200 -\n",
      "127.0.0.1 - - [01/Nov/2020 21:01:36] \"\u001b[37mGET /static/maps/toner_hybrid/12/3227/2032.png HTTP/1.1\u001b[0m\" 200 -\n",
      "127.0.0.1 - - [01/Nov/2020 21:01:36] \"\u001b[37mGET /static/maps/toner_hybrid/12/3229/2033.png HTTP/1.1\u001b[0m\" 200 -\n",
      "127.0.0.1 - - [01/Nov/2020 21:01:36] \"\u001b[37mGET /static/maps/toner_hybrid/12/3227/2030.png HTTP/1.1\u001b[0m\" 200 -\n",
      "127.0.0.1 - - [01/Nov/2020 21:01:36] \"\u001b[37mGET /static/maps/toner_hybrid/13/6459/4064.png HTTP/1.1\u001b[0m\" 200 -\n",
      "127.0.0.1 - - [01/Nov/2020 21:01:36] \"\u001b[37mGET /static/maps/toner_hybrid/13/6456/4065.png HTTP/1.1\u001b[0m\" 200 -\n",
      "127.0.0.1 - - [01/Nov/2020 21:01:36] \"\u001b[37mGET /static/maps/toner_hybrid/13/6459/4062.png HTTP/1.1\u001b[0m\" 200 -\n",
      "127.0.0.1 - - [01/Nov/2020 21:01:36] \"\u001b[37mGET /static/maps/toner_hybrid/13/6458/4063.png HTTP/1.1\u001b[0m\" 200 -\n",
      "127.0.0.1 - - [01/Nov/2020 21:01:36] \"\u001b[37mGET /static/maps/toner_hybrid/13/6456/4064.png HTTP/1.1\u001b[0m\" 200 -\n",
      "127.0.0.1 - - [01/Nov/2020 21:01:36] \"\u001b[37mGET /static/maps/toner_hybrid/13/6456/4063.png HTTP/1.1\u001b[0m\" 200 -\n",
      "127.0.0.1 - - [01/Nov/2020 21:01:37] \"\u001b[37mGET /static/maps/toner_hybrid/14/12914/8127.png HTTP/1.1\u001b[0m\" 200 -\n",
      "127.0.0.1 - - [01/Nov/2020 21:01:37] \"\u001b[37mGET /static/maps/toner_hybrid/14/12916/8128.png HTTP/1.1\u001b[0m\" 200 -\n",
      "127.0.0.1 - - [01/Nov/2020 21:01:37] \"\u001b[37mGET /static/maps/toner_hybrid/14/12916/8127.png HTTP/1.1\u001b[0m\" 200 -\n",
      "127.0.0.1 - - [01/Nov/2020 21:01:37] \"\u001b[37mGET /static/maps/toner_hybrid/14/12917/8126.png HTTP/1.1\u001b[0m\" 200 -\n",
      "127.0.0.1 - - [01/Nov/2020 21:01:37] \"\u001b[37mGET /static/maps/toner_hybrid/14/12914/8126.png HTTP/1.1\u001b[0m\" 200 -\n",
      "127.0.0.1 - - [01/Nov/2020 21:01:37] \"\u001b[37mGET /static/maps/toner_hybrid/14/12914/8128.png HTTP/1.1\u001b[0m\" 200 -\n",
      "127.0.0.1 - - [01/Nov/2020 21:01:37] \"\u001b[37mGET /static/maps/toner_hybrid/14/12916/8129.png HTTP/1.1\u001b[0m\" 200 -\n",
      "127.0.0.1 - - [01/Nov/2020 21:01:37] \"\u001b[37mGET /static/maps/toner_hybrid/14/12915/8127.png HTTP/1.1\u001b[0m\" 200 -\n",
      "127.0.0.1 - - [01/Nov/2020 21:01:37] \"\u001b[37mGET /static/maps/toner_hybrid/14/12915/8129.png HTTP/1.1\u001b[0m\" 200 -\n",
      "127.0.0.1 - - [01/Nov/2020 21:01:37] \"\u001b[37mGET /static/maps/toner_hybrid/14/12915/8126.png HTTP/1.1\u001b[0m\" 200 -\n",
      "127.0.0.1 - - [01/Nov/2020 21:01:37] \"\u001b[37mGET /static/maps/toner_hybrid/14/12915/8128.png HTTP/1.1\u001b[0m\" 200 -\n",
      "127.0.0.1 - - [01/Nov/2020 21:01:37] \"\u001b[37mGET /static/maps/toner_hybrid/14/12917/8128.png HTTP/1.1\u001b[0m\" 200 -\n",
      "127.0.0.1 - - [01/Nov/2020 21:01:37] \"\u001b[37mGET /static/maps/toner_hybrid/15/25831/16254.png HTTP/1.1\u001b[0m\" 200 -\n",
      "127.0.0.1 - - [01/Nov/2020 21:01:37] \"\u001b[37mGET /static/maps/toner_hybrid/15/25831/16255.png HTTP/1.1\u001b[0m\" 200 -\n",
      "127.0.0.1 - - [01/Nov/2020 21:01:37] \"\u001b[37mGET /static/maps/toner_hybrid/15/25830/16254.png HTTP/1.1\u001b[0m\" 200 -\n",
      "127.0.0.1 - - [01/Nov/2020 21:01:37] \"\u001b[37mGET /static/maps/toner_hybrid/15/25832/16254.png HTTP/1.1\u001b[0m\" 200 -\n",
      "127.0.0.1 - - [01/Nov/2020 21:01:37] \"\u001b[37mGET /static/maps/toner_hybrid/15/25831/16257.png HTTP/1.1\u001b[0m\" 200 -\n",
      "127.0.0.1 - - [01/Nov/2020 21:01:37] \"\u001b[37mGET /static/maps/toner_hybrid/15/25833/16256.png HTTP/1.1\u001b[0m\" 200 -\n",
      "127.0.0.1 - - [01/Nov/2020 21:01:38] \"\u001b[37mGET /static/maps/toner_hybrid/15/25830/16256.png HTTP/1.1\u001b[0m\" 200 -\n"
     ]
    },
    {
     "name": "stderr",
     "output_type": "stream",
     "text": [
      "127.0.0.1 - - [01/Nov/2020 21:01:38] \"\u001b[37mGET /static/maps/toner_hybrid/15/25831/16256.png HTTP/1.1\u001b[0m\" 200 -\n",
      "127.0.0.1 - - [01/Nov/2020 21:01:38] \"\u001b[37mGET /static/maps/toner_hybrid/15/25830/16257.png HTTP/1.1\u001b[0m\" 200 -\n",
      "127.0.0.1 - - [01/Nov/2020 21:01:38] \"\u001b[37mGET /static/maps/toner_hybrid/15/25833/16254.png HTTP/1.1\u001b[0m\" 200 -\n",
      "127.0.0.1 - - [01/Nov/2020 21:01:38] \"\u001b[37mGET /static/maps/toner_hybrid/15/25832/16256.png HTTP/1.1\u001b[0m\" 200 -\n",
      "127.0.0.1 - - [01/Nov/2020 21:01:38] \"\u001b[37mGET /static/maps/toner_hybrid/15/25830/16255.png HTTP/1.1\u001b[0m\" 200 -\n",
      "127.0.0.1 - - [01/Nov/2020 21:01:38] \"\u001b[37mGET /static/maps/toner_hybrid/15/25832/16257.png HTTP/1.1\u001b[0m\" 200 -\n",
      "127.0.0.1 - - [01/Nov/2020 21:01:38] \"\u001b[37mGET /static/maps/toner_hybrid/15/25832/16255.png HTTP/1.1\u001b[0m\" 200 -\n",
      "127.0.0.1 - - [01/Nov/2020 21:01:38] \"\u001b[37mGET /static/maps/toner_hybrid/15/25833/16255.png HTTP/1.1\u001b[0m\" 200 -\n",
      "127.0.0.1 - - [01/Nov/2020 21:01:38] \"\u001b[37mGET /static/maps/toner_hybrid/15/25833/16257.png HTTP/1.1\u001b[0m\" 200 -\n",
      "127.0.0.1 - - [01/Nov/2020 21:01:38] \"\u001b[37mGET /static/maps/toner_hybrid/15/25829/16255.png HTTP/1.1\u001b[0m\" 200 -\n",
      "127.0.0.1 - - [01/Nov/2020 21:01:38] \"\u001b[37mGET /static/maps/toner_hybrid/15/25834/16255.png HTTP/1.1\u001b[0m\" 200 -\n",
      "127.0.0.1 - - [01/Nov/2020 21:01:38] \"\u001b[37mGET /static/maps/toner_hybrid/15/25829/16256.png HTTP/1.1\u001b[0m\" 200 -\n",
      "127.0.0.1 - - [01/Nov/2020 21:01:38] \"\u001b[37mGET /static/maps/toner_hybrid/15/25834/16256.png HTTP/1.1\u001b[0m\" 200 -\n",
      "127.0.0.1 - - [01/Nov/2020 21:01:38] \"\u001b[37mGET /static/maps/toner_hybrid/15/25829/16254.png HTTP/1.1\u001b[0m\" 200 -\n",
      "127.0.0.1 - - [01/Nov/2020 21:01:38] \"\u001b[37mGET /static/maps/toner_hybrid/15/25834/16254.png HTTP/1.1\u001b[0m\" 200 -\n",
      "127.0.0.1 - - [01/Nov/2020 21:01:38] \"\u001b[37mGET /static/maps/toner_hybrid/15/25829/16257.png HTTP/1.1\u001b[0m\" 200 -\n",
      "127.0.0.1 - - [01/Nov/2020 21:01:38] \"\u001b[37mGET /static/maps/toner_hybrid/15/25834/16257.png HTTP/1.1\u001b[0m\" 200 -\n",
      "127.0.0.1 - - [01/Nov/2020 21:01:40] \"\u001b[37mGET /static/maps/toner_hybrid/15/25835/16255.png HTTP/1.1\u001b[0m\" 200 -\n",
      "127.0.0.1 - - [01/Nov/2020 21:01:40] \"\u001b[37mGET /static/maps/toner_hybrid/15/25835/16254.png HTTP/1.1\u001b[0m\" 200 -\n",
      "127.0.0.1 - - [01/Nov/2020 21:01:40] \"\u001b[37mGET /static/maps/toner_hybrid/15/25835/16256.png HTTP/1.1\u001b[0m\" 200 -\n",
      "127.0.0.1 - - [01/Nov/2020 21:03:08] \"\u001b[37mGET /shutdown HTTP/1.1\u001b[0m\" 200 -\n"
     ]
    }
   ],
   "source": [
    "import requests \n",
    "\n",
    "from flask import Flask\n",
    "from flask import render_template\n",
    "from flask import request\n",
    "from werkzeug.wrappers import Request, Response\n",
    "\n",
    "def shutdown_server():\n",
    "    func = request.environ.get(\"werkzeug.server.shutdown\")\n",
    "    if func is None:\n",
    "        raise RuntimeError(\"Not running with the Werkzeug Server\")\n",
    "    func()\n",
    "    \n",
    "app = Flask(__name__)\n",
    "@app.route(\"/\")\n",
    "def index():\n",
    "    title=\"Local Basemap\"\n",
    "    return render_template(\"index.html\", message=title, template_folder=\"templates\", static_folder=\"static\")\n",
    "\n",
    "@app.route(\"/shutdown\", methods=[\"GET\"])\n",
    "def shutdown():\n",
    "    shutdown_server()\n",
    "    return \"Server shutting down...\"\n",
    "\n",
    "if __name__ == \"__main__\":\n",
    "    from werkzeug.serving import run_simple\n",
    "    run_simple(\"localhost\", 9000, app)"
   ]
  },
  {
   "cell_type": "markdown",
   "metadata": {},
   "source": [
    "Select the following link to shutdown the Flask Web Application:<br>\n",
    "<a href=\"http://localhost:9000/shutdown\" target=\"blank\">Shutdown Flask App</a>"
   ]
  },
  {
   "cell_type": "markdown",
   "metadata": {},
   "source": [
    "Example of initial Basemap View:<br>\n",
    "<img src=\"img/initial_basemap_view_toner_hybrid.png\" height=\"150px\" /><br>\n",
    "Zoomed-In View:<br>\n",
    "<img src=\"img/zoomed_in_basemap_view_toner_hybrid.png\" height=\"150px\" /><br>"
   ]
  },
  {
   "cell_type": "markdown",
   "metadata": {},
   "source": [
    "### 4.2 Package the folder with `mbutil`\n",
    "Now that we have ensured the basemap is rendering the correct tile images, the folder can now be packaged into a single <b>mbtiles</b> file. This is done via the python package mbutil. To install it, go to <a href=\"https://pypi.org/project/mbutil/\" target=\"blank\">mbutil</a> and proceed to follow the instructions below:"
   ]
  },
  {
   "cell_type": "markdown",
   "metadata": {},
   "source": [
    "1. Navigate to <a href=\"https://github.com/mapbox/mbutil\" target=\"blank\">mbutil</a>\n",
    "2. Download ZIP of the repository and save the ZIP archive into the same folder as the jupyter notebook.\n",
    "<img src=\"img/clone_mbutil_folder.png\" width=\"250px\" />\n",
    "3. Extract out the folder `mbutil-master` and rename it to `.mbutil`.\n",
    "4. Navigate inside the mbutil folder and <b>delete</b> the `.gitignore` file. It should now look like this:\n",
    "<img src=\"img/mbutil_package_files.png\" width=\"250px\" />\n",
    "5. Proceed to open a terminal/command prompt in that folder and run: \n",
    "<code>python mb-util ../static/maps/toner ../static/maps/toner.mbtiles</code><br><br>\n",
    "<u>Packaging process by `mbutil` is ongoing</u>\n",
    "<img src=\"img/mbutil_packaging_process.png\" width=\"500px\" />\n",
    "6. `toner.mbtiles` is now created and the latest folder structure should now look like this:\n",
    "<pre>\n",
    "    |--Jupyter Notebook (ipynb file)\n",
    "    |\n",
    "    |--templates (folder)\n",
    "    |    |--index.html\n",
    "    |\n",
    "    |--static (folder)\n",
    "    |    |--favicon.ico\n",
    "    |    |--loading.gif\n",
    "    |    |--loading.gif\n",
    "    |    |--output.geojson \n",
    "    |    |\n",
    "    |    |--css (folder)\n",
    "    |    |   |--leaflet.css\n",
    "    |    |   |--images (folder)\n",
    "    |    |        |--layers.png\n",
    "    |    |        |--layers-2x.png\n",
    "    |    |        |--marker-icon.png\n",
    "    |    |   \n",
    "    |    |--js (folder)\n",
    "    |    |   |--leaflet.js\n",
    "    |    |   |--Leaflet.TileLayer.MBTiles.js\n",
    "    |    |   |--sql.js\n",
    "    |    |\n",
    "    |    |--maps (folder) \n",
    "    |        |--(folder of tile images e.g.toner)\n",
    "    |        |--(mbtiles file e.g.toner.mbtiles)\n",
    "    |\n",
    "    |--.mbutil (folder)\n",
    "</pre>\n",
    "Hence, proceed to modify the code snippet in the <b>index.html</b> between the `<script></script>` tags to render the basemap from `toner.mbtiles` file:<br>\n",
    "```javascript\n",
    "        var map = new L.Map(\"map\", {\n",
    "          minZoom: 11,\n",
    "          maxZoom: 15,\n",
    "          maxBoundsViscocity: 1\n",
    "        });\n",
    "\n",
    "        var basemapLayer = L.tileLayer.mbTiles(\"static/maps/toner.mbtiles\", {\n",
    "          minZoom: 11,\n",
    "          maxZoom: 15,\n",
    "          maxBoundsViscocity: 1,\n",
    "          attribution: \"<span class='prefix-attribution'><em>Map tiles by <a href='http://stamen.com' target='blank'>Stamen Design</a>, under <a href='http://creativecommons.org/licenses/by/3.0' target='blank'>CC BY 3.0</a>. Data by <a href='http://openstreetmap.org' target='blank'>OpenStreetMap</a>, under <a href='http://www.openstreetmap.org/copyright' target='blank'>ODbL</a>.</span>\"\n",
    "        }).addTo(map);\n",
    "\n",
    "        basemapLayer.on(\"databaseloaded\", function(ev) {\n",
    "          console.info(\"MBTiles DB loaded\", ev);\n",
    "                   \n",
    "          var popup = L.popup();\n",
    "          \n",
    "          function onMapClick(e) {\n",
    "            popup\n",
    "              .setLatLng(e.latlng)\n",
    "              .setContent(\"You clicked the map at \" + e.latlng.toString())\n",
    "              .openOn(map);\n",
    "          }\n",
    "\n",
    "          map.on(\"click\", onMapClick);\n",
    "        });\n",
    "\n",
    "        basemapLayer.on(\"databaseerror\", function(ev) {\n",
    "          console.info(\"MBTiles DB error\", ev);\n",
    "        }); \n",
    "\n",
    "        var xhr = new XMLHttpRequest();\n",
    "        xhr.open(\"GET\", \"static/output.geojson\");\n",
    "        xhr.setRequestHeader(\"Content-Type\", \"application/json\");\n",
    "        xhr.responseType = \"json\";\n",
    "        xhr.onload = function() {\n",
    "            if (xhr.status !== 200) {\n",
    "              return\n",
    "            }\n",
    "            var geoJSONLayer=L.geoJSON(xhr.response);\n",
    "            map.fitBounds(geoJSONLayer.getBounds());\n",
    "            map.setMaxBounds(geoJSONLayer.getBounds());\n",
    "        };\n",
    "        xhr.send();\n",
    "```\n",
    "<b>Explanation of Code Snippet</b>: \n",
    "* The above code snippet is almost identical to the previous code snippet except that instead of rendering the basemap from <b>static/maps/toner/{z}/{x}/{y}.png</b>, the basemap is now rendered from the packaged mbtiles file <b>static/maps/toner.mbtiles</b>"
   ]
  },
  {
   "cell_type": "markdown",
   "metadata": {},
   "source": [
    "## Step 5. Re-run the web app with the mbtile file and Leaflet.TileLayer.MBTiles.js plugin"
   ]
  },
  {
   "cell_type": "code",
   "execution_count": 27,
   "metadata": {},
   "outputs": [
    {
     "name": "stderr",
     "output_type": "stream",
     "text": [
      " * Running on http://localhost:9000/ (Press CTRL+C to quit)\n",
      "127.0.0.1 - - [01/Nov/2020 21:04:15] \"\u001b[37mGET / HTTP/1.1\u001b[0m\" 200 -\n",
      "127.0.0.1 - - [01/Nov/2020 21:04:15] \"\u001b[37mGET /static/css/leaflet.css HTTP/1.1\u001b[0m\" 200 -\n",
      "127.0.0.1 - - [01/Nov/2020 21:04:15] \"\u001b[37mGET /static/js/leaflet.js HTTP/1.1\u001b[0m\" 200 -\n",
      "127.0.0.1 - - [01/Nov/2020 21:04:15] \"\u001b[37mGET /static/js/sql.js HTTP/1.1\u001b[0m\" 200 -\n",
      "127.0.0.1 - - [01/Nov/2020 21:04:15] \"\u001b[37mGET /static/js/Leaflet.TileLayer.MBTiles.js HTTP/1.1\u001b[0m\" 200 -\n",
      "127.0.0.1 - - [01/Nov/2020 21:04:15] \"\u001b[37mGET /static/loading.gif HTTP/1.1\u001b[0m\" 200 -\n",
      "127.0.0.1 - - [01/Nov/2020 21:04:15] \"\u001b[33mGET /static/js/leaflet-src.map HTTP/1.1\u001b[0m\" 404 -\n",
      "127.0.0.1 - - [01/Nov/2020 21:04:16] \"\u001b[37mGET /static/maps/toner_hybrid.mbtiles HTTP/1.1\u001b[0m\" 200 -\n",
      "127.0.0.1 - - [01/Nov/2020 21:04:16] \"\u001b[37mGET /static/output.geojson HTTP/1.1\u001b[0m\" 200 -\n",
      "127.0.0.1 - - [01/Nov/2020 21:04:16] \"\u001b[37mGET /static/favicon.ico HTTP/1.1\u001b[0m\" 200 -\n",
      "127.0.0.1 - - [01/Nov/2020 21:04:16] \"\u001b[37mGET /static/onemap.png HTTP/1.1\u001b[0m\" 200 -\n",
      "127.0.0.1 - - [01/Nov/2020 21:04:34] \"\u001b[37mGET /shutdown HTTP/1.1\u001b[0m\" 200 -\n"
     ]
    }
   ],
   "source": [
    "def shutdown_server():\n",
    "    func = request.environ.get(\"werkzeug.server.shutdown\")\n",
    "    if func is None:\n",
    "        raise RuntimeError(\"Not running with the Werkzeug Server\")\n",
    "    func()\n",
    "    \n",
    "app = Flask(__name__)\n",
    "@app.route(\"/\")\n",
    "def index():\n",
    "    title=\"Local Basemap\"\n",
    "    return render_template(\"index.html\", message=title, template_folder=\"templates\", static_folder=\"static\")\n",
    "\n",
    "@app.route(\"/shutdown\", methods=[\"GET\"])\n",
    "def shutdown():\n",
    "    shutdown_server()\n",
    "    return \"Server shutting down...\"\n",
    "\n",
    "if __name__ == \"__main__\":\n",
    "    from werkzeug.serving import run_simple\n",
    "    run_simple(\"localhost\", 9000, app)"
   ]
  },
  {
   "cell_type": "markdown",
   "metadata": {},
   "source": [
    "Select the following link to shutdown the Flask Web Application:<br>\n",
    "<a href=\"http://localhost:9000/shutdown\" target=\"blank\">Shutdown Flask App</a>"
   ]
  },
  {
   "cell_type": "markdown",
   "metadata": {},
   "source": [
    "As shown below:\n",
    "<img src=\"img/basemap_served_with_mbtiles.png\" height=\"150px\" />\n",
    "The url to all the tile map images are rendered in a binary format fetched from `toner.mbtiles`. Local basemap has now been successfully packaged into a single mbtiles file and deployed onto local server for consumption.<br><br> \n",
    "\n",
    "### Congratulations! You now have your basemap rendered on your local server.\n",
    "#### (Optional) The folder of raw tile images can be deleted (e.g. `static/maps/toner`) and leave only the mbtiles file to be used by the application."
   ]
  }
 ],
 "metadata": {
  "kernelspec": {
   "display_name": "Python 3",
   "language": "python",
   "name": "python3"
  },
  "language_info": {
   "codemirror_mode": {
    "name": "ipython",
    "version": 3
   },
   "file_extension": ".py",
   "mimetype": "text/x-python",
   "name": "python",
   "nbconvert_exporter": "python",
   "pygments_lexer": "ipython3",
   "version": "3.7.9"
  }
 },
 "nbformat": 4,
 "nbformat_minor": 4
}
