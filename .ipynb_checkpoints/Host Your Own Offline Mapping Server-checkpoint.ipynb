{
 "cells": [
  {
   "cell_type": "markdown",
   "metadata": {},
   "source": [
    "# Host Your Own Offline Mapping Server\n",
    "## Step-by-Step Guide with instructions embedded below\n",
    "## Overview\n",
    "<a href=\"https://leafletjs.com/\" target=\"blank\">LeafletJS</a>, <a href=\"https://www.mapbox.com/\" target=\"blank\">MapBox</a>, <a href=\"https://www.esri.com/\" target=\"blank\">Esri</a> etc. These are just a few of the map plugins which analysts, developers etc. who require various Geospatial visualisations tend to use. Needless to say, all these plugins have something in common - they require a basemap service for meaningful interactivity. Thanks to many open-sourced map services such as <a href=\"https://www.openstreetmap.org/\" target=\"blank\">OpenStreetMap(OSM)</a>, it is almost effortless to parse in its map service url for rendering:<br><br>\n",
    "<u>Simple example of initialising a basemap using LeafletJS</u>\n",
    "<pre>\n",
    "    L.tileLayer('https://tile.openstreetmap.org/{z}/{x}/{y}.png', {\n",
    "        attribution: 'Map data &copy; <a href=\"https://www.openstreetmap.org/\">OpenStreetMap</a> contributors, <a href=\"https://creativecommons.org/licenses/by-sa/2.0/\">CC-BY-SA</a>, Imagery © <a href=\"https://www.mapbox.com/\">Mapbox</a>'\n",
    "    }).addTo(mymap);\n",
    "</pre>\n",
    "## Rationale of hosting an offline basemap\n",
    "However, this easy accessibility can backfire when an applicaiton fails to connect to the map service due to unforeseen circumstances such as - Absence of WiFi, Faulty Internet Connection, the Basemap service is no longer available etc. As a precaution, it is always wiser to consider hosting your own basemap locally on your local server especially on days when you are required to demonstrate or use your application at work.<br><br>\n",
    "<u>Example of locally hosted basemap</u>\n",
    "<img src=\"img/localhost_basemap_preview.png\" height=\"150px\" /><br>\n",
    "Although there are several ways of doing it, my preferred choice is the make use of leaflet's mbtiles plugin known as <a href=\"https://gitlab.com/IvanSanchez/Leaflet.TileLayer.MBTiles\" target=\"blank\">Leaflet.TileLayer.MBTiles</a>, which requires some preparation steps I will be going through below. This includes a little bit of calculation, a local web server, the utility python package <a href=\"https://github.com/mapbox/mbutil \" target=\"blank\">mbutil</a> and the base leafletJS library(since the choice of mbtiles plugin is meant to be integrated with leafletJS)."
   ]
  },
  {
   "cell_type": "markdown",
   "metadata": {},
   "source": [
    "## Step 1: Search for pre-existing basemap services online and pick your choice\n",
    "First and foremost, decide on a specific basemap to host offline. A good place to start will be http://maps.stamen.com/ with a great variety of basemaps available for public use. In addition, deciding on which basemap to host enables a clear understanding of each map tile's url format <b>(KIV: This is extremely important as we will see later.)</b>. For this guide's demostration, I shall select MapStamen's Toner theme basemap. Thereafter, proceed to:\n",
    "* Zoom to desired minimum zoom level e.g. `11` and ensure that the current browser viewport is currently capturing **ALL** the map tile images which are rendering the <b>Region/Province/Country/Continent</b>. For example, assuming my objective is to host the basemap of the country, Singapore, my browser shall look like this:<br>\n",
    "<br><u>Zoom Level 11 View</u><br>\n",
    "<img src=\"img/sg_map_stamen.png\" height=\"150px\" />\n",
    "* Right click and select \"Inspect\" or Ctrl+Shift+i (on Windows)\n",
    "<br><u>Screenshot of Developer Tools</u><br>\n",
    "<img src=\"img/console_stamen_map.png\" height=\"150px\" /><br><br>\n",
    "While different browsers have different configurations, the 2 essential components are 1. The browser console and 2. The <b>Elements</b> to view the html markup. As seen from the format of each map tile image rendered, it follows the conventional <a href=\"https://wiki.openstreetmap.org/wiki/Slippy_map_tilenames\" target=\"blank\">Slippy map</a> format where the URL contains `{s}-{z}/{x}/{y}`:<br>\n",
    "    - `z`: Zoom Level\n",
    "    - `x`: X-Coordinate of Tile Image in pixels\n",
    "    - `y`: Y-Coordinate of Tile Image in pixels\n",
    "    - `s`: Refers to subdomain. Due to heavy usage of map services, subdomains `a`,`b`,`c` are configured in place.<br>\n",
    "    \n",
    "<b>Note</b> that each tile image is rendered by a html image element `<img />`. Hence, copy and paste the following JavaScript code snippet into the console:<br>\n",
    "<pre>\n",
    "    var imgs = document.getElementsByTagName(\"img\");\n",
    "    var coordinates = [];\n",
    "    for(var i in imgs) {\n",
    "        if(typeof imgs[i].classList !== \"undefined\") {\n",
    "            if(imgs[i].classList.contains(\"leaflet-tile-loaded\")) {\n",
    "                var xy={\n",
    "                    \"x\": parseInt(imgs[i].src.split(\"/\")[5]),\n",
    "                    \"y\": parseInt(imgs[i].src.split(\"/\")[6].replace(\"@2x.png\",\"\"))\n",
    "                };\n",
    "\n",
    "                coordinates.push(xy);\n",
    "            }\n",
    "        }\n",
    "    }\n",
    "    console.log(JSON.stringify(coordinates));\n",
    "</pre>\n",
    "The output shall look similar to this:<br>\n",
    "<img src=\"img/javascript_output.png\" height=\"150px\" /><br>\n",
    "This above code snippet attempts to retrieve all the coordinates of the tile images at the desired minimum zoom level i.e. `11`<br>\n",
    "<b>Explanation</b>: Since the format of each map tile rendered in http://maps.stamen.com/ follows the following format:<br>\n",
    "`http://c.tile.stamen.com/toner/11/1614/1016@2x.png`. by delimiting it by the token `/` and transforming it into an array, we can see the following result:<br>\n",
    "\n",
    "| 0 | 1 | 2 | 3 | 4 | 5 | 6 |\n",
    "|---|---|---|---|---|---|---|\n",
    "| http: |   | c.tile.stamen.com | toner | `11` | `1614` | `1016@2x.png` |\n",
    "\n",
    "\n",
    "<br><b>Explanation</b>: The top column represents the index of the array. In this case, at zoom level `11`: \n",
    "* `x` can be found at position `5`\n",
    "* `y` can be found at position `6`\n",
    "<br><br>\n",
    "Take note that if a different map service provider has been chosen, e.g. `https://tile.openstreetmap.org/11/1612/1015.png`, then the delimited link will have different index mapped to the `x` and `y` coordinates:\n",
    "\n",
    "| 0 | 1 | 2 | 3 | 4 | 5 |\n",
    "|---|---|---|---|---|---|\n",
    "| https: |   | tile.openstreetmap.org | `11` | `1612` | `1015.png` |\n",
    "\n",
    "<br><b>Explanation</b>: The top column represents the index of the array. In this case, at zoom level `11`:\n",
    "* `x` can be found at position `4`\n",
    "* `y` can be found at position `5`\n",
    "<br><br>\n",
    "Hence, the code snippet above would have to be revised accordingly:\n",
    "<pre>\n",
    "    var imgs = document.getElementsByTagName(\"img\");\n",
    "    var coordinates = [];\n",
    "    for(var i in imgs) {\n",
    "        if(typeof imgs[i].classList !== \"undefined\") {\n",
    "            if(imgs[i].classList.contains(\"leaflet-tile-loaded\")) {\n",
    "                var xy={\n",
    "                    \"x\": parseInt(imgs[i].src.split(\"/\")[4]),\n",
    "                    \"y\": parseInt(imgs[i].src.split(\"/\")[5].replace(\".png\",\"\"))\n",
    "                };\n",
    "\n",
    "                coordinates.push(xy);\n",
    "            }\n",
    "        }\n",
    "    }\n",
    "    console.log(JSON.stringify(coordinates));\n",
    "</pre>\n",
    "As such, change the index positions in the above code snippet accordingly to extract out the `x` and `y` coordinates.<br>\n",
    "Other possible basemap choices from maps.stamen include:<br>\n",
    "\n",
    "| Type | URL |\n",
    "|------|-----|\n",
    "| toner | http://tile.stamen.com/toner/{z}/{x}/{y}.png |\n",
    "| terrain | http://tile.stamen.com/terrain/{z}/{x}/{y}.jpg |\n",
    "| watercolor | http://tile.stamen.com/watercolor/{z}/{x}/{y}.jpg |"
   ]
  },
  {
   "cell_type": "markdown",
   "metadata": {},
   "source": [
    "## Step 2. Import python packages and Initialise functions for Latitude/Longitude or X/Y conversion"
   ]
  },
  {
   "cell_type": "code",
   "execution_count": 1,
   "metadata": {},
   "outputs": [],
   "source": [
    "import math\n",
    "from math import pow\n",
    "import os\n",
    "import requests \n",
    "\n",
    "from flask import Flask\n",
    "from flask import render_template\n",
    "from flask import request\n",
    "from werkzeug.wrappers import Request, Response"
   ]
  },
  {
   "cell_type": "markdown",
   "metadata": {},
   "source": [
    "The function `num2deg` transforms the `x` and `y` into `latitude` and `longitude` respectively based on zoom level (`zoom` parameter). Source of code snippet at <a href=\" https://wiki.openstreetmap.org/wiki/Slippy_map_tilenames#Lon..2Flat._to_tile_numbers_2\" target=\"blank\">Slippy_map_tilenames</a>."
   ]
  },
  {
   "cell_type": "code",
   "execution_count": 2,
   "metadata": {},
   "outputs": [],
   "source": [
    "def num2deg(xtile, ytile, zoom):\n",
    "  n = 2.0 ** zoom\n",
    "  lon_deg = xtile / n * 360.0 - 180.0\n",
    "  lat_rad = math.atan(math.sinh(math.pi * (1 - 2 * ytile / n)))\n",
    "  lat_deg = math.degrees(lat_rad)\n",
    "  return (lat_deg, lon_deg)"
   ]
  },
  {
   "cell_type": "markdown",
   "metadata": {},
   "source": [
    "The function `deg2num` transforms the `lat_deg` and `lon_deg` into `x` and `y` of a tile image respectively based on zoom level (`zoom` parameter) Source of code snippet at <a href=\" https://wiki.openstreetmap.org/wiki/Slippy_map_tilenames#Lon..2Flat._to_tile_numbers_2\" target=\"blank\">Slippy_map_tilenames</a>."
   ]
  },
  {
   "cell_type": "code",
   "execution_count": 3,
   "metadata": {},
   "outputs": [],
   "source": [
    "def deg2num(lat_deg, lon_deg, zoom):\n",
    "  lat_rad = math.radians(lat_deg)\n",
    "  n = 2.0 ** zoom\n",
    "  xtile = int((lon_deg + 180.0) / 360.0 * n)\n",
    "  ytile = int((1.0 - math.asinh(math.tan(lat_rad)) / math.pi) / 2.0 * n)\n",
    "  return (xtile, ytile)"
   ]
  },
  {
   "cell_type": "markdown",
   "metadata": {},
   "source": [
    "### 2.1 Transform all tile coordinates(x,y) into coordinates(latitude,longitude) to combine all markers as a single <a href=\"https://tools.ietf.org/html/rfc7946#section-3.3\" target=\"blank\">GeoJSON Feature Collection</a> object"
   ]
  },
  {
   "cell_type": "markdown",
   "metadata": {},
   "source": [
    "Specify Zoom Level i.e.The minimum zoom level in Step 1:"
   ]
  },
  {
   "cell_type": "code",
   "execution_count": 4,
   "metadata": {},
   "outputs": [],
   "source": [
    "zoom=11"
   ]
  },
  {
   "cell_type": "markdown",
   "metadata": {},
   "source": [
    "Initialise a GeoJSON Feature Collection object"
   ]
  },
  {
   "cell_type": "code",
   "execution_count": 5,
   "metadata": {},
   "outputs": [],
   "source": [
    "geojsonObj={\n",
    "  \"type\": \"FeatureCollection\",\n",
    "  \"features\": []\n",
    "}"
   ]
  },
  {
   "cell_type": "markdown",
   "metadata": {},
   "source": [
    "Copy and Paste the output from Step 1 and store it into the variable `xy`:"
   ]
  },
  {
   "cell_type": "code",
   "execution_count": 6,
   "metadata": {},
   "outputs": [],
   "source": [
    "xy=[\n",
    "    {\"x\": 1614, \"y\": 1016}, {\"x\": 1615, \"y\": 1016}, {\"x\": 1614, \"y\": 1015}, {\"x\": 1615, \"y\": 1015}, \n",
    "    {\"x\": 1614, \"y\": 1017}, {\"x\": 1615, \"y\": 1017}, {\"x\": 1613, \"y\": 1016}, {\"x\": 1616, \"y\": 1016}, \n",
    "    {\"x\": 1613, \"y\": 1015}, {\"x\": 1616, \"y\": 1015}, {\"x\": 1613, \"y\": 1017}, {\"x\": 1616, \"y\": 1017}, \n",
    "    {\"x\": 1612, \"y\": 1016}, {\"x\": 1617, \"y\": 1016}, {\"x\": 1612, \"y\": 1015}, {\"x\": 1617, \"y\": 1015}, \n",
    "    {\"x\": 1612, \"y\": 1017}, {\"x\": 1617, \"y\": 1017}, {\"x\": 1615, \"y\": 1015}, {\"x\": 1616, \"y\": 1015}, \n",
    "    {\"x\": 1615, \"y\": 1016}, {\"x\": 1616, \"y\": 1016}, {\"x\": 1615, \"y\": 1016}, {\"x\": 1616, \"y\": 1016}, \n",
    "    {\"x\": 1615, \"y\": 1017}, {\"x\": 1616, \"y\": 1017}, {\"x\": 1614, \"y\": 1016}, {\"x\": 1615, \"y\": 1016}, \n",
    "    {\"x\": 1614, \"y\": 1015}, {\"x\": 1615, \"y\": 1015}, {\"x\": 1614, \"y\": 1017}, {\"x\": 1615, \"y\": 1017}, \n",
    "    {\"x\": 1613, \"y\": 1016}, {\"x\": 1616, \"y\": 1016}, {\"x\": 1613, \"y\": 1015}, {\"x\": 1616, \"y\": 1015}, \n",
    "    {\"x\": 1613, \"y\": 1017}, {\"x\": 1616, \"y\": 1017}, {\"x\": 1612, \"y\": 1016}, {\"x\": 1617, \"y\": 1016}, \n",
    "    {\"x\": 1612, \"y\": 1015}, {\"x\": 1617, \"y\": 1015}, {\"x\": 1612, \"y\": 1017}, {\"x\": 1617, \"y\": 1017}, \n",
    "    {\"x\": 1614, \"y\": 1018}, {\"x\": 1615, \"y\": 1018}, {\"x\": 1613, \"y\": 1018}, {\"x\": 1616, \"y\": 1018}, \n",
    "    {\"x\": 1612, \"y\": 1018}, {\"x\": 1617, \"y\": 1018}, {\"x\": 1615, \"y\": 1015}, {\"x\": 1616, \"y\": 1015}, \n",
    "    {\"x\": 1615, \"y\": 1016}, {\"x\": 1616, \"y\": 1016}, {\"x\": 1615, \"y\": 1017}, {\"x\": 1616, \"y\": 1017}, \n",
    "    {\"x\": 1615, \"y\": 1016}, {\"x\": 1616, \"y\": 1016}, {\"x\": 1615, \"y\": 1017}, {\"x\": 1616, \"y\": 1017}, \n",
    "    {\"x\": 1615, \"y\": 1018}, {\"x\": 1616, \"y\": 1018}\n",
    "]"
   ]
  },
  {
   "cell_type": "code",
   "execution_count": 7,
   "metadata": {},
   "outputs": [],
   "source": [
    "for item in xy:  \n",
    "    feature={\n",
    "      \"type\":\"Feature\",\n",
    "      \"geometry\": {\n",
    "        \"type\": \"Point\",\n",
    "        \"coordinates\": [\n",
    "          num2deg(item[\"x\"], item[\"y\"], zoom)[1],\n",
    "          num2deg(item[\"x\"], item[\"y\"], zoom)[0]\n",
    "        ]\n",
    "       },\n",
    "        \"properties\": {\n",
    "          \"zoom\": zoom\n",
    "        } \n",
    "    }\n",
    "    geojsonObj[\"features\"].append(feature)"
   ]
  },
  {
   "cell_type": "markdown",
   "metadata": {},
   "source": [
    "Proceed to output the GeoJSON into a file named: `output.geojson`"
   ]
  },
  {
   "cell_type": "code",
   "execution_count": 8,
   "metadata": {},
   "outputs": [
    {
     "name": "stdout",
     "output_type": "stream",
     "text": [
      "GeoJSON has been saved to file: output.geojson\n"
     ]
    }
   ],
   "source": [
    "geojson=str(geojsonObj).replace(\"'\",\"\\\"\")\n",
    "\n",
    "geojson_file = open(\"output.geojson\", \"w\")\n",
    "geojson_file.write(geojson)\n",
    "geojson_file.close()\n",
    "\n",
    "print(\"GeoJSON has been saved to file: output.geojson\")"
   ]
  },
  {
   "cell_type": "markdown",
   "metadata": {},
   "source": [
    "#### 2.2 Visualise map markers\n",
    "Render the GeoJSON file onto any map rendering platform to view the coordinates on the actual map. My personal recommendation would be http://geojson.io/ due to its intuitive interface and useful functionalities. Based on the above example, the coordinates transformed from the tiles at zoom level `11` shall look as such:\n",
    "<img src=\"img/xy_map.png\" height=\"150px\" /><br>\n",
    "Take note that the dimensions of the above image shows <b>4 × 6 map markers</b>, which is equivalent to <b>4 × 6 tiles</b>.\n",
    "\n",
    "## Step 3. Calculating the (X,Y) values for other zoom levels\n",
    "\n",
    "The tile coordinates of a slippy map follows the below rules:\n",
    "* Total no. of tiles=2<sup>zoom</sup> × 2<sup>zoom</sup> E.g. Zoom Level `11` has 2<sup>11</sup> × 2<sup>11</sup> = 2048 × 2048\n",
    "* Based on the markers visualised on the map, the no. of tiles is: <b>4 × 6 tiles</b> where:<br><br>\n",
    "<b>min(x)</b> = 1612<br>\n",
    "<b>max(x)</b> = 1616<br>\n",
    "<br>\n",
    "<b>min(y)</b> = 1015<br>\n",
    "<b>max(y)</b> = 1018<br>\n",
    "<pre>\n",
    "|----------------\n",
    "_ x: 1612..1616\n",
    "|\n",
    "|\n",
    "|\n",
    "|\n",
    "y:1015..1018\n",
    "</pre>"
   ]
  },
  {
   "cell_type": "markdown",
   "metadata": {},
   "source": [
    "Hence, based on the above logic, for zoom level `12`:\n",
    "* Total no. of tiles=2<sup>12</sup> × 2<sup>12</sup> = 4096 × 4096\n",
    "* This translates to: (4/2048)×4096 × (6/2048)×4096 tiles = <b>8 × 12 tiles</b> where:<br><br>\n",
    "<b>min(x)</b> = 1612/4 × 8 = 3224<br>\n",
    "<b>max(x)</b> = 1616/4 × 8 = 3232<br>\n",
    "<br>\n",
    "<b>min(y)</b> = 1015/6 × 12 = 2030<br>\n",
    "<b>max(y)</b> = 1018/6 × 12 = 2036<br>\n",
    "<pre>\n",
    "|----------------\n",
    "_ x: 3224..3232\n",
    "|\n",
    "|\n",
    "|\n",
    "|\n",
    "y:2030..2036\n",
    "</pre>"
   ]
  },
  {
   "cell_type": "markdown",
   "metadata": {},
   "source": [
    "### 3.1 Proof of Concept that the above equation is valid"
   ]
  },
  {
   "cell_type": "code",
   "execution_count": 9,
   "metadata": {},
   "outputs": [],
   "source": [
    "urlPrefix=\"http://tile.stamen.com/toner/\"\n",
    "tileUrls=[]\n",
    "zoom_level=12 # pick a random zoom level\n",
    "for x in range(3224,3232+1,1):\n",
    "  for y in range(2030,2036+1,1):\n",
    "      tileUrl=urlPrefix+str(zoom_level) + \"/\" + str(x) + \"/\" + str(y) + \".png\"\n",
    "      tileUrls.append(tileUrl)"
   ]
  },
  {
   "cell_type": "markdown",
   "metadata": {},
   "source": [
    "Proceed to output some of the tileUrls and select a few links to view the tile image(s).<br>\n",
    "* If it is a broken link, the map service is probably down so seek another map service.\n",
    "* Else, the image should render a part of the basemap to be hosted offline subsequently"
   ]
  },
  {
   "cell_type": "code",
   "execution_count": 10,
   "metadata": {},
   "outputs": [
    {
     "data": {
      "text/plain": [
       "['http://tile.stamen.com/toner/12/3224/2030.png',\n",
       " 'http://tile.stamen.com/toner/12/3224/2031.png',\n",
       " 'http://tile.stamen.com/toner/12/3224/2032.png',\n",
       " 'http://tile.stamen.com/toner/12/3224/2033.png',\n",
       " 'http://tile.stamen.com/toner/12/3224/2034.png',\n",
       " 'http://tile.stamen.com/toner/12/3224/2035.png',\n",
       " 'http://tile.stamen.com/toner/12/3224/2036.png',\n",
       " 'http://tile.stamen.com/toner/12/3225/2030.png',\n",
       " 'http://tile.stamen.com/toner/12/3225/2031.png',\n",
       " 'http://tile.stamen.com/toner/12/3225/2032.png',\n",
       " 'http://tile.stamen.com/toner/12/3225/2033.png',\n",
       " 'http://tile.stamen.com/toner/12/3225/2034.png']"
      ]
     },
     "execution_count": 10,
     "metadata": {},
     "output_type": "execute_result"
    }
   ],
   "source": [
    "tileUrls[:12]"
   ]
  },
  {
   "cell_type": "markdown",
   "metadata": {},
   "source": [
    "From the illustration of the above calculations, it is now possible to calculate and retrieve all the basemap tile images required. Next, we shall set up a folder structure in accordance to Slippy map rules to save the respective tile images.<br><br>\n",
    "<u>Screenshot of browser backend from the site hosting the map service.</u><br>\n",
    "<img src=\"img/basemap_folder_structure.png\" width=\"250px\" /><br>\n",
    "It can be inferred from the above that map tile images are stored in following folder structure:\n",
    "<pre>\n",
    "    |--zoom level directory\n",
    "    |     |---x-tile coordinate directory\n",
    "    |           |---y-tile coordinate image/png file\n",
    "</pre>\n",
    "As such, the next section shall attempt to create the required folder hierarchy. However before executing the next cell, a zoom upper limit of the basemap has to be set. Conventionally, `17` or `18` are good choices when users are required to view street level details. For this tutorial I shall set my zoom level upper limit to just `15`."
   ]
  },
  {
   "cell_type": "markdown",
   "metadata": {},
   "source": [
    "### 3.2 Creation of Folder Structure"
   ]
  },
  {
   "cell_type": "markdown",
   "metadata": {},
   "source": [
    "<b>Recall</b>: At zoom level `11`,<br>\n",
    "Dimensions are: <b>4 × 6 tiles</b><br>\n",
    "<br>\n",
    "<b>min(x)</b> = 1612<br>\n",
    "<b>max(x)</b> = 1616<br>\n",
    "<br>\n",
    "<b>min(y)</b> = 1015<br>\n",
    "<b>max(y)</b> = 1018<br>\n",
    "<pre>\n",
    "|----------------\n",
    "_ x: 1612..1616\n",
    "|\n",
    "|\n",
    "|\n",
    "|\n",
    "y: 1015..1018\n",
    "</pre>\n",
    "<br>\n",
    "Therefore, at zoom level `n`, since no. of tiles = 2<sup>zoom</sup> × 2<sup>zoom</sup>,<br>\n",
    "Dimensions shall be: ( 4×(2<sup>n</sup>) ) × ( 6×(2<sup>n</sup>) ) tiles<br>\n",
    "<br>\n",
    "<b>min(x)</b> = 1612/4 × 4(2<sup>n</sup>)<br>\n",
    "<b>max(x)</b> = 1616/4 × 4(2<sup>n</sup>)<br>\n",
    "<br>\n",
    "<b>min(y)</b> = 1015/6 × 6(2<sup>n</sup>)<br>\n",
    "<b>max(y)</b> = 1018/6 × 6(2<sup>n</sup>)<br>\n",
    "<pre>\n",
    "|----------------\n",
    "_ x: min(x)..max(x)\n",
    "|\n",
    "|\n",
    "|\n",
    "|\n",
    "y: min(y)..max(y)\n",
    "</pre>\n",
    "\n",
    "To reduce repetitive code, a function can be created to apply the above logic in order to retrieve that `x` and `y` coordinates of the tiles at any zoom level."
   ]
  },
  {
   "cell_type": "code",
   "execution_count": 11,
   "metadata": {},
   "outputs": [
    {
     "name": "stdout",
     "output_type": "stream",
     "text": [
      "Folder structure for zoom levels 11 to 15 has been created.\n"
     ]
    }
   ],
   "source": [
    "minZoomLevel=11 # IMPORTANT! Ensure that your minZoomLevel is the same as the one you decided intially\n",
    "maxZoomLevel=15 # The upper limit of zoom level set on the basemap\n",
    "\n",
    "directoryPrefix=\"toner/\" # assume it is being saved in a folder named toner\n",
    "\n",
    "def initDirectoryStructure(n): # where n refers to the zoom level\n",
    "    minX=(1612/4)*4*pow(2,n-minZoomLevel)\n",
    "    maxX=(1616/4)*4*pow(2,n-minZoomLevel)\n",
    "    \n",
    "    minY=(1015/6)*6*pow(2,n-minZoomLevel)\n",
    "    maxY=(1018/6)*6*pow(2,n-minZoomLevel)\n",
    "    \n",
    "    minX=int(minX)\n",
    "    maxX=int(maxX)\n",
    "    minY=int(minY)\n",
    "    maxY=int(maxY)\n",
    "    \n",
    "    for x in range(minX,maxX+1,1):\n",
    "      for y in range(minY,maxY+1,1):\n",
    "            directory=directoryPrefix+str(n) + \"/\" + str(x)\n",
    "            if not os.path.exists(directory):\n",
    "                os.makedirs(directory)\n",
    "\n",
    "# Execute function to create folder structures for zoom levels minZoomLevel to maxZoomLevel (inclusive)\n",
    "for z in range(minZoomLevel,maxZoomLevel+1,1):\n",
    "    initDirectoryStructure(z)\n",
    "    \n",
    "print(\"Folder structure for zoom levels \" + str(minZoomLevel) + \" to \" + str(maxZoomLevel) + \" has been created.\")"
   ]
  },
  {
   "cell_type": "markdown",
   "metadata": {},
   "source": [
    "## Step 4. Stream the tile images into the local folders you have just \n",
    "After initialisation of the folder structure, we can now retrieve tile images of zoom levels which fall within the range of `minZoomLevel` and `maxZoomLevel` (inclusive) from the basemap service.\n",
    "\n",
    "### A note of caution: \n",
    "1. This step can take up to a few hours if the specified zoom level upper limit is high e.g. Above zoom level `17` will increase the duration of running the next cell significantly \n",
    "2. The output tile images are going to take up a fair amount of disk space. Generally, raster tiles from map services such as OpenStreetMap comprising of zoom levels `11` to `17` for a single country takes up approximately ~500MB. \n",
    "3. If the type of basemap getting hosted is a Satellite map, due to high resolutions of Satellite imagery, the final output often amounts to a few GB so it will be wise to ensure enough disk space is available before saving the tile images to the local disk drive."
   ]
  },
  {
   "cell_type": "code",
   "execution_count": 12,
   "metadata": {},
   "outputs": [
    {
     "name": "stdout",
     "output_type": "stream",
     "text": [
      "All map tile images for zoom levels 11 to 15 have been saved to local directories.\n"
     ]
    }
   ],
   "source": [
    "basemapUrlPrefix=\"http://tile.stamen.com/toner/\"\n",
    "basemapUrlSuffix=\".png\"\n",
    "\n",
    "def streamTileImages(n): # where n refers to the zoom level\n",
    "    minX=(1612/4)*4*pow(2,n-minZoomLevel)\n",
    "    maxX=(1616/4)*4*pow(2,n-minZoomLevel)\n",
    "    \n",
    "    minY=(1015/6)*6*pow(2,n-minZoomLevel)\n",
    "    maxY=(1018/6)*6*pow(2,n-minZoomLevel)\n",
    "    \n",
    "    minX=int(minX)\n",
    "    maxX=int(maxX)\n",
    "    minY=int(minY)\n",
    "    maxY=int(maxY)\n",
    "    \n",
    "    for x in range(minX,maxX+1,1):\n",
    "      for y in range(minY,maxY+1,1):\n",
    "            # send a HTTP request to retrieve the tile image file\n",
    "            basemapTileUrl=basemapUrlPrefix+str(n) + \"/\" + str(x) + \"/\" + str(y) + basemapUrlSuffix\n",
    "            r = requests.get(basemapTileUrl)\n",
    "            # proceed to save it as a local image file in the folders created in step 3\n",
    "            save_as_filename=directoryPrefix+str(n) + \"/\" + str(x) + \"/\" + str(y) + \".png\"\n",
    "            with open(save_as_filename,\"wb\") as local_tile_image:\n",
    "                local_tile_image.write(r.content) \n",
    "\n",
    "for z in range(minZoomLevel,maxZoomLevel+1,1):\n",
    "    streamTileImages(z)\n",
    "    \n",
    "print(\"All map tile images for zoom levels \" + str(minZoomLevel) + \" to \" + str(maxZoomLevel) + \" have been saved to local directories.\")"
   ]
  },
  {
   "cell_type": "markdown",
   "metadata": {},
   "source": [
    "### Summary of output from the above steps:\n",
    "<img src=\"img/streamed_tile_images.png\" height=\"150px\" />"
   ]
  },
  {
   "cell_type": "markdown",
   "metadata": {},
   "source": [
    "### 4.1 Host Folders on a web server to ensure tile images are saved successfully\n",
    "Finally, to ensure that the correct tile images were saved, a web server should be set up and call the basemap directly from the folders (packaging shoud only be done after ensuring that the basemap renders correctly).<br>\n",
    "<br>\n",
    "For this demonstration, the libraries `Flask` and `werkzeug` shall be used to set up a web server directly in this notebook to host the basemap.<br><br>\n",
    "<u>Pre-requisites</u>\n",
    "* Include the base leaflet library: <a href=\"https://unpkg.com/leaflet@1.0.0/dist/leaflet.css\" target=\"blank\">leaflet stylesheet</a> and <a href=\"https://unpkg.com/leaflet@1.0.0/dist/leaflet-src.js\" target=\"blank\">leafletJS</a>\n",
    "* Include the leaflet plugin <a href=\"http://ivansanchez.gitlab.io/Leaflet.TileLayer.MBTiles/Leaflet.TileLayer.MBTiles.js\" target=\"blank\">L.TileLayer.mbTiles plugin</a> and its dependency <a href=\"https://unpkg.com/sql.js@0.3.2/js/sql.js\" target=\"blank\">sql.js</a>\n",
    "* Place the file `output.geojson` generated from Step 2 into the `static` folder in the below directory structure specified\n",
    "* Copy and paste the folder of tile images e.g. <b>toner</b> into the `static/maps` folder in the below directory structure specified\n",
    "* Save a blank, black tile and rename it to `error.png`. Place it into the `static` folder in the below directory structure specified\n",
    "\n",
    "<pre>\n",
    "    |--Jupyter Notebook (ipynb file)\n",
    "    |\n",
    "    |--templates (folder)\n",
    "    |    |--index.html\n",
    "    |\n",
    "    |--static (folder)\n",
    "    |    |--favicon.ico\n",
    "    |    |--loading.gif\n",
    "    |    |--loading.gif\n",
    "    |    |--error.png\n",
    "    |    |--output.geojson \n",
    "    |    |\n",
    "    |    |--css (folder)\n",
    "    |    |   |--leaflet.css\n",
    "    |    |   |--images (folder)\n",
    "    |    |        |--layers.png\n",
    "    |    |        |--layers-2x.png\n",
    "    |    |        |--marker-icon.png\n",
    "    |    |   \n",
    "    |    |--js (folder)\n",
    "    |    |   |--leaflet.js\n",
    "    |    |   |--Leaflet.TileLayer.MBTiles.js\n",
    "    |    |   |--sql.js\n",
    "    |    |\n",
    "    |    |--maps (folder) \n",
    "    |        |--toner(folder of tile images)\n",
    "    |\n",
    "<pre>"
   ]
  },
  {
   "cell_type": "markdown",
   "metadata": {},
   "source": [
    "Finally, proceed to include the following code snippet in `index.html` between the `<script></script>` tags to render the basemap directly from the folders:<br>\n",
    "\n",
    "`<script>`\n",
    "<pre>\n",
    "        var map = new L.Map(\"map\", {\n",
    "          minZoom: 11,\n",
    "          maxZoom: 15,\n",
    "          maxBoundsViscocity: 1\n",
    "        });\n",
    "        var basemapLayer=L.tileLayer(\"static/maps/toner/{z}/{x}/{y}.png\", {\n",
    "          minZoom: 11,\n",
    "          maxZoom: 15,\n",
    "          maxBoundsViscocity: 1,\n",
    "          errorTileUrl: \"static/error.png\",\n",
    "          attribution: \"<span class='prefix-attribution'><em>Map tiles by <a href='http://stamen.com' target='blank'>Stamen Design</a>, under <a href='http://creativecommons.org/licenses/by/3.0' target='blank'>CC BY 3.0</a>. Data by <a href='http://openstreetmap.org' target='blank'>OpenStreetMap</a>, under <a href='http://www.openstreetmap.org/copyright' target='blank'>ODbL</a>.</span>\"\n",
    "        }).addTo(map);\n",
    "\n",
    "        var xhr = new XMLHttpRequest();\n",
    "        xhr.open(\"GET\", \"static/output.geojson\");\n",
    "        xhr.setRequestHeader(\"Content-Type\", \"application/json\");\n",
    "        xhr.responseType = \"json\";\n",
    "        xhr.onload = function() {\n",
    "            if (xhr.status !== 200) {\n",
    "              return\n",
    "            }\n",
    "            var geoJSONLayer=L.geoJSON(xhr.response);\n",
    "            map.fitBounds(geoJSONLayer.getBounds());\n",
    "            map.setMaxBounds(geoJSONLayer.getBounds());\n",
    "        };\n",
    "        xhr.send();\n",
    "</pre> \n",
    "`</script>`<br>\n",
    "\n",
    "<b>Explanation of Code Snippet</b>: \n",
    "* The above code snippet intialises a new map object with leafletJS. \n",
    "* The file `output.geojson` generated from Step 2 is called via AJAX and proceeds to set the map view within the basemap's bbox."
   ]
  },
  {
   "cell_type": "code",
   "execution_count": 32,
   "metadata": {},
   "outputs": [
    {
     "name": "stderr",
     "output_type": "stream",
     "text": [
      " * Running on http://localhost:9000/ (Press CTRL+C to quit)\n",
      "127.0.0.1 - - [29/Oct/2020 04:22:32] \"\u001b[37mGET / HTTP/1.1\u001b[0m\" 200 -\n",
      "127.0.0.1 - - [29/Oct/2020 04:22:35] \"\u001b[33mGET /static/maps/toner/11/1617/1016.png HTTP/1.1\u001b[0m\" 404 -\n",
      "127.0.0.1 - - [29/Oct/2020 04:22:35] \"\u001b[33mGET /static/maps/toner/11/1617/1015.png HTTP/1.1\u001b[0m\" 404 -\n",
      "127.0.0.1 - - [29/Oct/2020 04:22:35] \"\u001b[33mGET /static/maps/toner/11/1617/1017.png HTTP/1.1\u001b[0m\" 404 -\n",
      "127.0.0.1 - - [29/Oct/2020 04:22:37] \"\u001b[33mGET /static/maps/toner/11/1611/1016.png HTTP/1.1\u001b[0m\" 404 -\n",
      "127.0.0.1 - - [29/Oct/2020 04:22:37] \"\u001b[33mGET /static/maps/toner/11/1611/1015.png HTTP/1.1\u001b[0m\" 404 -\n",
      "127.0.0.1 - - [29/Oct/2020 04:22:37] \"\u001b[33mGET /static/maps/toner/11/1611/1017.png HTTP/1.1\u001b[0m\" 404 -\n",
      "127.0.0.1 - - [29/Oct/2020 04:22:38] \"\u001b[33mGET /static/maps/toner/11/1614/1014.png HTTP/1.1\u001b[0m\" 404 -\n",
      "127.0.0.1 - - [29/Oct/2020 04:22:39] \"\u001b[33mGET /static/maps/toner/11/1615/1014.png HTTP/1.1\u001b[0m\" 404 -\n",
      "127.0.0.1 - - [29/Oct/2020 04:22:39] \"\u001b[33mGET /static/maps/toner/11/1613/1014.png HTTP/1.1\u001b[0m\" 404 -\n",
      "127.0.0.1 - - [29/Oct/2020 04:22:39] \"\u001b[33mGET /static/maps/toner/11/1616/1014.png HTTP/1.1\u001b[0m\" 404 -\n",
      "127.0.0.1 - - [29/Oct/2020 04:22:39] \"\u001b[33mGET /static/maps/toner/11/1612/1014.png HTTP/1.1\u001b[0m\" 404 -\n",
      "127.0.0.1 - - [29/Oct/2020 04:22:39] \"\u001b[33mGET /static/maps/toner/11/1617/1014.png HTTP/1.1\u001b[0m\" 404 -\n",
      "127.0.0.1 - - [29/Oct/2020 04:22:41] \"\u001b[33mGET /static/maps/toner/11/1617/1018.png HTTP/1.1\u001b[0m\" 404 -\n",
      "127.0.0.1 - - [29/Oct/2020 04:22:41] \"\u001b[33mGET /static/maps/toner/11/1611/1018.png HTTP/1.1\u001b[0m\" 404 -\n",
      "127.0.0.1 - - [29/Oct/2020 04:23:58] \"\u001b[37mGET /shutdown HTTP/1.1\u001b[0m\" 200 -\n"
     ]
    }
   ],
   "source": [
    "def shutdown_server():\n",
    "    func = request.environ.get(\"werkzeug.server.shutdown\")\n",
    "    if func is None:\n",
    "        raise RuntimeError(\"Not running with the Werkzeug Server\")\n",
    "    func()\n",
    "    \n",
    "app = Flask(__name__)\n",
    "@app.route(\"/\")\n",
    "def index():\n",
    "    title=\"Local Basemap\"\n",
    "    return render_template(\"index.html\", message=title, template_folder=\"templates\", static_folder=\"static\")\n",
    "\n",
    "@app.route(\"/shutdown\", methods=[\"GET\"])\n",
    "def shutdown():\n",
    "    shutdown_server()\n",
    "    return \"Server shutting down...\"\n",
    "\n",
    "if __name__ == \"__main__\":\n",
    "    from werkzeug.serving import run_simple\n",
    "    run_simple(\"localhost\", 9000, app)"
   ]
  },
  {
   "cell_type": "markdown",
   "metadata": {},
   "source": [
    "Select the following this link to shutdown the Flask Web Application:<br>\n",
    "<a href=\"http://localhost:9000/shutdown\" target=\"blank\">Shutdown Flask App</a>"
   ]
  },
  {
   "cell_type": "markdown",
   "metadata": {},
   "source": [
    "Example of initial Basemap View:<br>\n",
    "<img src=\"img/initial_basemap_view.png\" height=\"150px\" /><br>\n",
    "Zoomed-In View:<br>\n",
    "<img src=\"img/zoomed_in_basemap_view.png\" height=\"150px\" /><br>"
   ]
  },
  {
   "cell_type": "markdown",
   "metadata": {},
   "source": [
    "### 4.2 Package the folder with `mbutil`\n",
    "Now that the basemap is confirmed to be rendering the basemap correctly, the folder can now be packaged into a single mbTile file. This is done via the python package <a href=\"https://pypi.org/project/mbutil/\" target=\"blank\">mbutil</a>. To install mbutil, please following the instructions below:"
   ]
  },
  {
   "cell_type": "markdown",
   "metadata": {},
   "source": [
    "1. Navigate to <a href=\"https://github.com/mapbox/mbutil\" target=\"blank\">mbutil</a>\n",
    "2. Download ZIP of the repository and save the ZIP archive into the same folder as the jupyter notebook.\n",
    "<img src=\"img/clone_mbutil_folder.png\" width=\"250px\" />\n",
    "3. Extract out the folder `mbutil-master` and rename it to `mbutil`.\n",
    "4. Navigate inside the mbutil folder and <b>delete</b> the `.gitignore` file. It should now look like this:\n",
    "<img src=\"img/mbutil_files.png\" width=\"250px\" />\n",
    "5. Proceed to open a terminal/command prompt in that folder and run: \n",
    "<code>python mb-util ../static/maps/toner ../static/maps/toner.mbtiles</code><br><br>\n",
    "<u>Packaging process by `mbutil` is ongoing</u>\n",
    "<img src=\"img/mbutil_packaging_process.png\" width=\"500px\" />\n",
    "6. `toner.mbtiles` is now created and the latest folder structure should now look like this:\n",
    "<pre>\n",
    "    |--Jupyter Notebook (ipynb file)\n",
    "    |\n",
    "    |--templates (folder)\n",
    "    |    |--index.html\n",
    "    |\n",
    "    |--static (folder)\n",
    "    |    |--favicon.ico\n",
    "    |    |--loading.gif\n",
    "    |    |--loading.gif\n",
    "    |    |--error.png\n",
    "    |    |--output.geojson \n",
    "    |    |\n",
    "    |    |--css (folder)\n",
    "    |    |   |--leaflet.css\n",
    "    |    |   |--images (folder)\n",
    "    |    |        |--layers.png\n",
    "    |    |        |--layers-2x.png\n",
    "    |    |        |--marker-icon.png\n",
    "    |    |   \n",
    "    |    |--js (folder)\n",
    "    |    |   |--leaflet.js\n",
    "    |    |   |--Leaflet.TileLayer.MBTiles.js\n",
    "    |    |   |--sql.js\n",
    "    |    |\n",
    "    |    |--maps (folder) \n",
    "    |        |--toner(folder of tile images)\n",
    "    |        |--toner.mbtiles\n",
    "    |\n",
    "    |--mbutil (folder)\n",
    "<pre>\n",
    "Hence, proceed to modify the code snippet in the `index.html` between the <script></script> tags to render the basemap from `toner.mbtiles` file:\n",
    "\n",
    "`<script>`\n",
    "<pre>\n",
    "        var map = new L.Map(\"map\", {\n",
    "          minZoom: 11,\n",
    "          maxZoom: 15,\n",
    "          maxBoundsViscocity: 1\n",
    "        });\n",
    "\n",
    "        var basemapLayer = L.tileLayer.mbTiles(\"static/maps/toner.mbtiles\", {\n",
    "          minZoom: 11,\n",
    "          maxZoom: 15,\n",
    "          maxBoundsViscocity: 1,\n",
    "          errorTileUrl: \"static/error.png\",\n",
    "          attribution: \"<span class='prefix-attribution'><em>Map tiles by <a href='http://stamen.com' target='blank'>Stamen Design</a>, under <a href='http://creativecommons.org/licenses/by/3.0' target='blank'>CC BY 3.0</a>. Data by <a href='http://openstreetmap.org' target='blank'>OpenStreetMap</a>, under <a href='http://www.openstreetmap.org/copyright' target='blank'>ODbL</a>.</span>\"\n",
    "        }).addTo(map);\n",
    "\n",
    "        basemapLayer.on(\"databaseloaded\", function(ev) {\n",
    "          console.info(\"MBTiles DB loaded\", ev);\n",
    "                   \n",
    "          var popup = L.popup();\n",
    "          \n",
    "          function onMapClick(e) {\n",
    "            popup\n",
    "              .setLatLng(e.latlng)\n",
    "              .setContent(\"You clicked the map at \" + e.latlng.toString())\n",
    "              .openOn(map);\n",
    "          }\n",
    "\n",
    "          map.on(\"click\", onMapClick);\n",
    "        });\n",
    "\n",
    "        basemapLayer.on(\"databaseerror\", function(ev) {\n",
    "          console.info(\"MBTiles DB error\", ev);\n",
    "        }); \n",
    "\n",
    "        var xhr = new XMLHttpRequest();\n",
    "        xhr.open(\"GET\", \"static/output.geojson\");\n",
    "        xhr.setRequestHeader(\"Content-Type\", \"application/json\");\n",
    "        xhr.responseType = \"json\";\n",
    "        xhr.onload = function() {\n",
    "            if (xhr.status !== 200) {\n",
    "              return\n",
    "            }\n",
    "            var geoJSONLayer=L.geoJSON(xhr.response);\n",
    "            map.fitBounds(geoJSONLayer.getBounds());\n",
    "            map.setMaxBounds(geoJSONLayer.getBounds());\n",
    "        };\n",
    "        xhr.send();\n",
    "\n",
    "</pre> \n",
    "`</script>`<br>\n",
    "\n",
    "<b>Explanation of Code Snippet</b>: \n",
    "* The above code snippet is almost identical to the previous code snippet except that instead of rendering the basemap from `static/maps/toner/{z}/{x}/{y}.png`, the basemap is now rendered from the packaged mbtiles file `static/maps/toner.mbtiles`"
   ]
  },
  {
   "cell_type": "markdown",
   "metadata": {},
   "source": [
    "## Step 5. Re-run the web app with the mbtile file and Leaflet.TileLayer.MBTiles.js plugin"
   ]
  },
  {
   "cell_type": "code",
   "execution_count": null,
   "metadata": {},
   "outputs": [
    {
     "name": "stderr",
     "output_type": "stream",
     "text": [
      " * Running on http://localhost:9000/ (Press CTRL+C to quit)\n",
      "127.0.0.1 - - [29/Oct/2020 05:17:03] \"\u001b[37mGET / HTTP/1.1\u001b[0m\" 200 -\n",
      "127.0.0.1 - - [29/Oct/2020 05:17:03] \"\u001b[37mGET /static/maps/toner.mbtiles HTTP/1.1\u001b[0m\" 200 -\n",
      "127.0.0.1 - - [29/Oct/2020 05:17:29] \"\u001b[33mGET /static/js/leaflet-src.map HTTP/1.1\u001b[0m\" 404 -\n"
     ]
    }
   ],
   "source": [
    "def shutdown_server():\n",
    "    func = request.environ.get(\"werkzeug.server.shutdown\")\n",
    "    if func is None:\n",
    "        raise RuntimeError(\"Not running with the Werkzeug Server\")\n",
    "    func()\n",
    "    \n",
    "app = Flask(__name__)\n",
    "@app.route(\"/\")\n",
    "def index():\n",
    "    title=\"Local Basemap\"\n",
    "    return render_template(\"index.html\", message=title, template_folder=\"templates\", static_folder=\"static\")\n",
    "\n",
    "@app.route(\"/shutdown\", methods=[\"GET\"])\n",
    "def shutdown():\n",
    "    shutdown_server()\n",
    "    return \"Server shutting down...\"\n",
    "\n",
    "if __name__ == \"__main__\":\n",
    "    from werkzeug.serving import run_simple\n",
    "    run_simple(\"localhost\", 9000, app)"
   ]
  },
  {
   "cell_type": "markdown",
   "metadata": {},
   "source": [
    "Select the following this link to shutdown the Flask Web Application:\n",
    "<a href=\"http://localhost:9000/shutdown\" target=\"blank\">Shutdown Flask App</a>"
   ]
  },
  {
   "cell_type": "markdown",
   "metadata": {},
   "source": [
    "As shown below:\n",
    "<img src=\"img/basemap_served_with_mbtiles.png\" height=\"150px\" />\n",
    "The url to all the tile map images are rendered in a binary format fetched from `toner.mbtiles`. Local basemap has now been successfully packaged into a single condensed mbtiles format and deployed onto local server for consumption.<br><br> \n",
    "<b>Note</b>: You may proceed to delete the folder `static/maps/toner` and leave only the mbtiles file in to be used by the application.\n",
    "\n",
    "### Congratulations! You now have your basemap rendered on your local server."
   ]
  }
 ],
 "metadata": {
  "kernelspec": {
   "display_name": "Python 3",
   "language": "python",
   "name": "python3"
  },
  "language_info": {
   "codemirror_mode": {
    "name": "ipython",
    "version": 3
   },
   "file_extension": ".py",
   "mimetype": "text/x-python",
   "name": "python",
   "nbconvert_exporter": "python",
   "pygments_lexer": "ipython3",
   "version": "3.7.9"
  }
 },
 "nbformat": 4,
 "nbformat_minor": 4
}
